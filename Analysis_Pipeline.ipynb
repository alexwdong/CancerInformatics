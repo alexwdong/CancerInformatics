{
 "cells": [
  {
   "cell_type": "code",
   "execution_count": 1,
   "metadata": {},
   "outputs": [],
   "source": [
    "import numpy as np\n",
    "import pandas as pd\n",
    "import re\n",
    "import math\n",
    "\n",
    "import os.path\n",
    "from os import path\n",
    "\n",
    "from data_util import create_dataset, gene_selection, remove_mean_cutoffs_tumor\n",
    "from data_util import get_healthy_genes, differential_gene_expression_analysis, setup_gene_name_dict\n",
    "from data_util import run_enrichr, remove_mean_cutoffs_healthy, get_healthy2_gene_list, get_healthy_tissue_gene_exp_df\n",
    "\n",
    "from clustering import elbow_method, run_km, get_cluster_dict, get_cluster_pathways\n",
    "\n",
    "from sklearn import preprocessing\n",
    "from sklearn.preprocessing import StandardScaler\n",
    "from scipy.stats import ttest_ind\n",
    "from scipy.stats import norm\n",
    "\n",
    "import gseapy as gp\n",
    "import pickle as pkl\n",
    "from matplotlib import pyplot as plt"
   ]
  },
  {
   "cell_type": "markdown",
   "metadata": {},
   "source": [
    "# Read in data"
   ]
  },
  {
   "cell_type": "markdown",
   "metadata": {},
   "source": [
    "###  Note that the loaded data has already been log_2(x+1) transformed from the raw values"
   ]
  },
  {
   "cell_type": "code",
   "execution_count": 2,
   "metadata": {},
   "outputs": [],
   "source": [
    "cancer_type = 'BLCA'\n",
    "cancer_origin = 'Bladder'\n",
    "tumor_site1 = 'Lung'\n",
    "tumor_site2 = 'Liver'\n",
    "healthy_files_created = True\n",
    "\n",
    "# List of cutoffs used in the analysis:\n",
    "# 0) mean_cutoff_tumor_site1 = 1\n",
    "# 1) mean_cutoff_tumor_site2 = 1\n",
    "# 2) p_value_cutoff_tumor_site1 = 0.01\n",
    "# 3) p_value_cutoff_tumor_site2 = 0.01\n",
    "# 4) mean_cutoff_healthy2 = 4\n",
    "# 5) p_value_cutoff_healthy2 = 0.01\n",
    "cutoff_list = [1, 1, 0.01, 0.01, 1, 0.01]"
   ]
  },
  {
   "cell_type": "code",
   "execution_count": 3,
   "metadata": {},
   "outputs": [
    {
     "name": "stdout",
     "output_type": "stream",
     "text": [
      "==========Raw Data==========\n",
      "BLCA-Lung sample count: 31\n",
      "BLCA-Lung gene count: 60487\n",
      "\n",
      "BLCA-Liver sample count: 12\n",
      "BLCA-Liver gene count: 60487\n"
     ]
    }
   ],
   "source": [
    "filepath_new = '../mmc1-tony.xlsx'\n",
    "data_new = pd.read_excel(filepath_new,index_col=0)\n",
    "\n",
    "data_tumor_site1 = create_dataset(cancer_type = 'BLCA',\n",
    "                                new_tumor_event_site = 'Lung',\n",
    "                                data_new = data_new,\n",
    "                                filepath_ge = '../BLCA/TCGA-BLCA.htseq_fpkm.tsv',\n",
    "                                filepath_ph = '../BLCA/TCGA-BLCA.GDC_phenotype.tsv')\n",
    "\n",
    "data_tumor_site2 = create_dataset(cancer_type = 'BLCA',\n",
    "                                new_tumor_event_site = 'Liver',\n",
    "                                data_new = data_new,\n",
    "                                filepath_ge = '../BLCA/TCGA-BLCA.htseq_fpkm.tsv',\n",
    "                                filepath_ph = '../BLCA/TCGA-BLCA.GDC_phenotype.tsv')\n",
    "\n",
    "print('==========Raw Data==========')\n",
    "print('{}-{} sample count: {}'.format(cancer_type, tumor_site1, data_tumor_site1.shape[0]))\n",
    "print('{}-{} gene count: {}'.format(cancer_type, tumor_site1, data_tumor_site1.shape[1]))\n",
    "\n",
    "print('\\n{}-{} sample count: {}'.format(cancer_type, tumor_site2, data_tumor_site2.shape[0]))\n",
    "print('{}-{} gene count: {}'.format(cancer_type, tumor_site2, data_tumor_site2.shape[1]))"
   ]
  },
  {
   "cell_type": "code",
   "execution_count": 4,
   "metadata": {},
   "outputs": [],
   "source": [
    "# The pipeline requires two healthy gene expression datasets for each analysis\n",
    "\n",
    "if healthy_files_created == False:\n",
    "\n",
    "    sampleAttributesDS_path = '../GTEx_Analysis_v8_Annotations_SampleAttributesDS.txt'\n",
    "    gtexTCGA_path = '../TcgaTargetGtex_rsem_gene_fpkm'\n",
    "\n",
    "    # Healthy tissue data to compare with the tumor data from the cancer origin site (e.g. BRCA_lung to healthy breast)\n",
    "    healthy1_gene_exp_df = get_healthy_tissue_gene_exp_df(sample_attr_DS_path=sampleAttributesDS_path,\n",
    "                                                      gtex_tcga_path=gtexTCGA_path,\n",
    "                                                      tissue_str=cancer_origin)\n",
    "\n",
    "    # Healthy tissue data to compare with the first metastatic site (e.g. BRCA_lung to healthy lung)\n",
    "    healthy2_gene_exp_df = get_healthy_tissue_gene_exp_df(sample_attr_DS_path=sampleAttributesDS_path,\n",
    "                                                      gtex_tcga_path=gtexTCGA_path,\n",
    "                                                      tissue_str=tumor_site1)\n",
    "\n",
    "    # Write healthy tissue data to csv\n",
    "    healthy1_gene_exp_df.to_csv('../{}_gene_exp_healthy.csv'.format(cancer_origin))\n",
    "    healthy2_gene_exp_df.to_csv('../{}_gene_exp_healthy.csv'.format(tumor_site1))"
   ]
  },
  {
   "cell_type": "markdown",
   "metadata": {},
   "source": [
    "# Selection of Genes Related to Transporters and Enzymes"
   ]
  },
  {
   "cell_type": "code",
   "execution_count": 5,
   "metadata": {},
   "outputs": [
    {
     "name": "stdout",
     "output_type": "stream",
     "text": [
      "==========Post Gene Selection==========\n",
      "BLCA-Lung sample count: 30\n",
      "BLCA-Lung gene count: 4192\n",
      "\n",
      "BLCA-Liver sample count: 12\n",
      "BLCA-Liver gene count: 4192\n"
     ]
    }
   ],
   "source": [
    "# Get names df - List of genes related to transporter and enzyme production\n",
    "names_df = pd.read_csv('../ensembl_index.csv',index_col = 0)\n",
    "\n",
    "# Get bladder-lung data\n",
    "data_tumor_site1 = gene_selection(data_tumor_site1, names_df)\n",
    "\n",
    "# Manually inspect to make sure all samples end in \"01A\" or \"01B\"\n",
    "data_tumor_site1.drop('TCGA-GD-A2C5-11A', inplace=True) # Remove as sample ends in \"11A\"\n",
    "\n",
    "# Get bladder-liver data\n",
    "data_tumor_site2 = gene_selection(data_tumor_site2, names_df)\n",
    "\n",
    "print('==========Post Gene Selection==========')\n",
    "print('{}-{} sample count: {}'.format(cancer_type, tumor_site1, data_tumor_site1.shape[0]))\n",
    "print('{}-{} gene count: {}'.format(cancer_type, tumor_site1, data_tumor_site1.shape[1]))\n",
    "\n",
    "print('\\n{}-{} sample count: {}'.format(cancer_type, tumor_site2, data_tumor_site2.shape[0]))\n",
    "print('{}-{} gene count: {}'.format(cancer_type, tumor_site2, data_tumor_site2.shape[1]))    "
   ]
  },
  {
   "cell_type": "markdown",
   "metadata": {},
   "source": [
    "# Histograms and Mean Cutoffs of Tumor Samples"
   ]
  },
  {
   "cell_type": "code",
   "execution_count": 6,
   "metadata": {},
   "outputs": [
    {
     "name": "stdout",
     "output_type": "stream",
     "text": [
      "==========Post Mean Cutoffs==========\n",
      "BLCA-Lung sample count: 30\n",
      "BLCA-Lung gene count: 2959\n",
      "\n",
      "BLCA-Liver sample count: 12\n",
      "BLCA-Liver gene count: 2966\n"
     ]
    }
   ],
   "source": [
    "data_tumor_site1 = remove_mean_cutoffs_tumor(data_tumor_site1, cutoff = cutoff_list[0], plotting = False)\n",
    "data_tumor_site2 = remove_mean_cutoffs_tumor(data_tumor_site2, cutoff = cutoff_list[1], plotting = False)\n",
    "\n",
    "print('==========Post Mean Cutoffs==========')\n",
    "print('{}-{} sample count: {}'.format(cancer_type, tumor_site1, data_tumor_site1.shape[0]))\n",
    "print('{}-{} gene count: {}'.format(cancer_type, tumor_site1, data_tumor_site1.shape[1]))\n",
    "\n",
    "print('\\n{}-{} sample count: {}'.format(cancer_type, tumor_site2, data_tumor_site2.shape[0]))\n",
    "print('{}-{} gene count: {}'.format(cancer_type, tumor_site2, data_tumor_site2.shape[1]))    "
   ]
  },
  {
   "cell_type": "markdown",
   "metadata": {},
   "source": [
    "# Differential Gene Expression Analysis"
   ]
  },
  {
   "cell_type": "code",
   "execution_count": 7,
   "metadata": {},
   "outputs": [
    {
     "name": "stdout",
     "output_type": "stream",
     "text": [
      "==========Post Differential Gene Expression Analysis==========\n",
      "BLCA-Lung gene count: 234\n",
      "BLCA-Liver gene count: 209\n"
     ]
    }
   ],
   "source": [
    "filepath = '../Bladder_gene_exp_healthy.csv'\n",
    "healthy1_trunc_df = get_healthy_genes(filepath)\n",
    "\n",
    "tumor_site1_gene_list, _ = differential_gene_expression_analysis(data_tumor_site1, healthy1_trunc_df)\n",
    "tumor_site2_gene_list, _ = differential_gene_expression_analysis(data_tumor_site2, healthy1_trunc_df)\n",
    "\n",
    "print('==========Post Differential Gene Expression Analysis==========')\n",
    "print('{}-{} gene count: {}'.format(cancer_type, tumor_site1, len(tumor_site1_gene_list)))\n",
    "print('{}-{} gene count: {}'.format(cancer_type, tumor_site2, len(tumor_site2_gene_list)))"
   ]
  },
  {
   "cell_type": "markdown",
   "metadata": {},
   "source": [
    "# K-Means Clustering"
   ]
  },
  {
   "cell_type": "code",
   "execution_count": 8,
   "metadata": {},
   "outputs": [],
   "source": [
    "# Setup gene2idx dictionaries for tumor site 1 and tumor site 2\n",
    "site1_gene2idx = {}\n",
    "site1_idx2gene = {}\n",
    "\n",
    "site2_gene2idx = {}\n",
    "site2_idx2gene = {}    \n",
    "\n",
    "for i, gene in enumerate(tumor_site1_gene_list):\n",
    "    site1_gene2idx[gene] = i\n",
    "    site1_idx2gene[i] = gene\n",
    "    \n",
    "for i, gene in enumerate(tumor_site2_gene_list):\n",
    "    site2_gene2idx[gene] = i\n",
    "    site2_idx2gene[i] = gene    "
   ]
  },
  {
   "cell_type": "code",
   "execution_count": 9,
   "metadata": {},
   "outputs": [],
   "source": [
    "# Keep subset of genes that are effectively upregulated\n",
    "tumor_site1_gene_list = np.array(tumor_site1_gene_list)\n",
    "site1_gene_array = data_tumor_site1[tumor_site1_gene_list].to_numpy()\n",
    "site1_gene_array_norm = preprocessing.normalize(site1_gene_array.T)\n",
    "\n",
    "tumor_site2_gene_list = np.array(tumor_site2_gene_list)\n",
    "site2_gene_array = data_tumor_site2[tumor_site2_gene_list].to_numpy()\n",
    "site2_gene_array_norm = preprocessing.normalize(site2_gene_array.T)"
   ]
  },
  {
   "cell_type": "code",
   "execution_count": 10,
   "metadata": {},
   "outputs": [
    {
     "name": "stdout",
     "output_type": "stream",
     "text": [
      "===============Tumor Site 1===============\n"
     ]
    },
    {
     "data": {
      "image/png": "[encoded data removed]",
      "text/plain": [
       "<Figure size 432x288 with 1 Axes>"
      ]
     },
     "metadata": {
      "needs_background": "light"
     },
     "output_type": "display_data"
    },
    {
     "data": {
      "image/png": "[encoded data removed]",
      "text/plain": [
       "<Figure size 432x288 with 1 Axes>"
      ]
     },
     "metadata": {
      "needs_background": "light"
     },
     "output_type": "display_data"
    },
    {
     "name": "stdout",
     "output_type": "stream",
     "text": [
      "\n",
      "===============Tumor Site 2===============\n"
     ]
    },
    {
     "data": {
      "image/png": "[encoded data removed]",
      "text/plain": [
       "<Figure size 432x288 with 1 Axes>"
      ]
     },
     "metadata": {
      "needs_background": "light"
     },
     "output_type": "display_data"
    },
    {
     "data": {
      "image/png": "[encoded data removed]",
      "text/plain": [
       "<Figure size 432x288 with 1 Axes>"
      ]
     },
     "metadata": {
      "needs_background": "light"
     },
     "output_type": "display_data"
    }
   ],
   "source": [
    "print('===============Tumor Site 1===============')\n",
    "elbow_method(site1_gene_array_norm, verbose = False, plotting = True)\n",
    "\n",
    "print('\\n===============Tumor Site 2===============')\n",
    "elbow_method(site2_gene_array_norm, verbose = False, plotting = True)"
   ]
  },
  {
   "cell_type": "code",
   "execution_count": 11,
   "metadata": {},
   "outputs": [],
   "source": [
    "# Site1 K-Means\n",
    "\n",
    "# Only run if pkl file of clusters doesn't exist\n",
    "site1_clusters_filepath = \"../site1_clusters.p\"\n",
    "site1_cluster_count = 4\n",
    "\n",
    "if path.exists(site1_clusters_filepath) == False:\n",
    "\n",
    "    site1_cluster_count_list = [site1_cluster_count] * 20\n",
    "\n",
    "    site1_km_list = run_km(cluster_count_list = site1_cluster_count_list,\n",
    "                           gene_list = tumor_site1_gene_list,\n",
    "                           gene_array_norm = site1_gene_array_norm,\n",
    "                           gene_array = site1_gene_array,\n",
    "                           gene2idx = site1_gene2idx,\n",
    "                           plotting=True\n",
    "                          )"
   ]
  },
  {
   "cell_type": "code",
   "execution_count": 12,
   "metadata": {},
   "outputs": [],
   "source": [
    "# Get site1 clusters - opens a saved pkl file if available\n",
    "site1_cluster_filepath = \"../site1_clusters.p\"\n",
    "site1_best_km_idx = 10\n",
    "\n",
    "if path.exists(site1_clusters_filepath) == False:\n",
    "\n",
    "    site1_cluster_dict = get_cluster_dict(cluster_count = site1_cluster_count,\n",
    "                                          gene_list = tumor_site1_gene_list,\n",
    "                                          km_list = site1_km_list,\n",
    "                                          best_km_idx = site1_best_km_idx,\n",
    "                                          filepath = site1_cluster_filepath,\n",
    "                                          save_file = True\n",
    "                                         )\n",
    "else:\n",
    "    site1_cluster_dict = pkl.load(open(site1_cluster_filepath,\"rb\"))"
   ]
  },
  {
   "cell_type": "code",
   "execution_count": 13,
   "metadata": {},
   "outputs": [],
   "source": [
    "# Site2 K-Means\n",
    "\n",
    "# Only run if pkl file of clusters doesn't exist\n",
    "site2_clusters_filepath = \"../site2_clusters.p\"\n",
    "site2_cluster_count = 3\n",
    "\n",
    "if path.exists(site2_clusters_filepath) == False:\n",
    "\n",
    "    site2_cluster_count_list = [site2_cluster_count] * 20\n",
    "\n",
    "    site2_km_list = run_km(cluster_count_list = site2_cluster_count_list,\n",
    "                           gene_list = tumor_site2_gene_list,\n",
    "                           gene_array_norm = site2_gene_array_norm,\n",
    "                           gene_array = site2_gene_array,\n",
    "                           gene2idx = site2_gene2idx,\n",
    "                           plotting=True\n",
    "                          )"
   ]
  },
  {
   "cell_type": "code",
   "execution_count": 14,
   "metadata": {},
   "outputs": [],
   "source": [
    "# Get site2 clusters - opens a saved pkl file if available\n",
    "site2_cluster_filepath = \"../site2_clusters.p\"\n",
    "site2_best_km_idx = 1\n",
    "\n",
    "if path.exists(site2_clusters_filepath) == False:\n",
    "\n",
    "    site2_cluster_dict = get_cluster_dict(cluster_count = site2_cluster_count,\n",
    "                                          gene_list = tumor_site2_gene_list,\n",
    "                                          km_list = site2_km_list,\n",
    "                                          best_km_idx = site2_best_km_idx,\n",
    "                                          filepath = site2_cluster_filepath,\n",
    "                                          save_file = True\n",
    "                                         )\n",
    "else:\n",
    "    site2_cluster_dict = pkl.load(open(site2_cluster_filepath,\"rb\"))"
   ]
  },
  {
   "cell_type": "markdown",
   "metadata": {},
   "source": [
    "# Gene Set Enrichment Analysis"
   ]
  },
  {
   "cell_type": "code",
   "execution_count": 15,
   "metadata": {},
   "outputs": [],
   "source": [
    "# Setup ensembl/name dictionaries\n",
    "filepath = '../Ensembl_symbol_entrez.csv'\n",
    "ensembl2gene, gene2ensembl = setup_gene_name_dict(filepath)\n",
    "\n",
    "# Setup gene_sets libraries\n",
    "gene_sets = ['GO_Biological_Process_2018', 'Reactome_2016']"
   ]
  },
  {
   "cell_type": "code",
   "execution_count": 16,
   "metadata": {},
   "outputs": [
    {
     "name": "stdout",
     "output_type": "stream",
     "text": [
      "==========Tumor Site 1==========\n",
      "Cluster 0 Pathways: 66\n",
      "Cluster 1 Pathways: 25\n"
     ]
    },
    {
     "name": "stderr",
     "output_type": "stream",
     "text": [
      "2020-08-12 02:05:44,084 Warning: No enrich terms using library GO_Biological_Process_2018 when cutoff = 0.5\n",
      "2020-08-12 02:05:45,313 Warning: No enrich terms using library Reactome_2016 when cutoff = 0.5\n"
     ]
    },
    {
     "name": "stdout",
     "output_type": "stream",
     "text": [
      "Cluster 2 Pathways: 0\n"
     ]
    },
    {
     "name": "stderr",
     "output_type": "stream",
     "text": [
      "2020-08-12 02:05:46,718 Warning: No enrich terms using library GO_Biological_Process_2018 when cutoff = 0.5\n"
     ]
    },
    {
     "name": "stdout",
     "output_type": "stream",
     "text": [
      "Cluster 3 Pathways: 0\n",
      "\n",
      "==========Tumor Site 2==========\n",
      "Cluster 0 Pathways: 20\n",
      "Cluster 1 Pathways: 87\n",
      "Cluster 2 Pathways: 1\n"
     ]
    }
   ],
   "source": [
    "# Run GSEA on each cluster for both site1 and site2\n",
    "print('==========Tumor Site 1==========')\n",
    "site1_pw = get_cluster_pathways(cluster_dict = site1_cluster_dict,\n",
    "                                     ensembl2gene = ensembl2gene,\n",
    "                                     gene_sets = gene_sets,\n",
    "                                     cutoff = cutoff_list[2],\n",
    "                                     verbose = True\n",
    "                                    )\n",
    "\n",
    "print('\\n==========Tumor Site 2==========')\n",
    "site2_pw = get_cluster_pathways(cluster_dict = site2_cluster_dict, \n",
    "                                     ensembl2gene = ensembl2gene, \n",
    "                                     gene_sets = gene_sets,    \n",
    "                                     cutoff = cutoff_list[2],                                \n",
    "                                     verbose = True\n",
    "                                    )"
   ]
  },
  {
   "cell_type": "code",
   "execution_count": 17,
   "metadata": {
    "scrolled": true
   },
   "outputs": [
    {
     "name": "stdout",
     "output_type": "stream",
     "text": [
      "==========Tumor Site 1==========\n",
      "Initial significant pathway count: 86\n",
      "Post-difference pathway count: 41\n",
      "\n",
      "==========Tumor Site 2==========\n",
      "Initial significant pathway count: 104\n",
      "Post-difference pathway count: 59\n"
     ]
    }
   ],
   "source": [
    "# Get intersection of pathways for both metastatic sites\n",
    "tumor_inter_pw = site1_pw.intersection(site2_pw)\n",
    "\n",
    "# Get difference between intersection of pathways and preferred metastatic site pathway\n",
    "site1_diff_pw = site1_pw.difference(tumor_inter_pw)\n",
    "site2_diff_pw = site2_pw.difference(tumor_inter_pw)\n",
    "\n",
    "print('==========Tumor Site 1==========')\n",
    "print('Initial significant pathway count: {}'.format(len(site1_pw)))\n",
    "print('Post-difference pathway count: {}'.format(len(site1_diff_pw)))\n",
    "\n",
    "print('\\n==========Tumor Site 2==========')\n",
    "print('Initial significant pathway count: {}'.format(len(site2_pw)))\n",
    "print('Post-difference pathway count: {}'.format(len(site2_diff_pw)))"
   ]
  },
  {
   "cell_type": "markdown",
   "metadata": {},
   "source": [
    "# Mean Cutoffs for Healthy Tissue Samples"
   ]
  },
  {
   "cell_type": "code",
   "execution_count": 18,
   "metadata": {},
   "outputs": [
    {
     "name": "stdout",
     "output_type": "stream",
     "text": [
      "Pre-cutoff - healthy tissue gene count: 60498\n",
      "Post-cutoff - healthy tissue gene count: 16244\n"
     ]
    }
   ],
   "source": [
    "filepath = '../Lung_gene_exp_healthy.csv'\n",
    "healthy2_trunc_df = get_healthy_genes(filepath)\n",
    "\n",
    "healthy2_results_df = remove_mean_cutoffs_healthy(healthy2_trunc_df, cutoff = cutoff_list[4], plotting = False)\n",
    "\n",
    "print('Pre-cutoff - healthy tissue gene count: {}'.format(healthy2_trunc_df.shape[1]))\n",
    "print('Post-cutoff - healthy tissue gene count: {}'.format(healthy2_results_df.shape[1]))"
   ]
  },
  {
   "cell_type": "markdown",
   "metadata": {},
   "source": [
    "# Gene Set Enrichment Analysis for Healthy Samples"
   ]
  },
  {
   "cell_type": "code",
   "execution_count": 20,
   "metadata": {},
   "outputs": [],
   "source": [
    "# Get gene list of healthy2 samples\n",
    "healthy2_gene_list, missing_id_list = get_healthy2_gene_list(healthy2_results_df, ensembl2gene)\n",
    "\n",
    "# Run Enrichr on healthy2 gene list\n",
    "healthy2_enr = run_enrichr(gene_list = healthy2_gene_list, gene_sets = gene_sets)\n",
    "healthy2_enr_results = healthy2_enr.results\n",
    "\n",
    "healthy2_pw = set(healthy2_enr_results[healthy2_enr_results['Adjusted P-value'] < cutoff_list[5]]['Term'])"
   ]
  },
  {
   "cell_type": "markdown",
   "metadata": {},
   "source": [
    "# Identification of Significant Pathways for Both Tumor Sites"
   ]
  },
  {
   "cell_type": "code",
   "execution_count": 21,
   "metadata": {},
   "outputs": [
    {
     "name": "stdout",
     "output_type": "stream",
     "text": [
      "==========Tumor Site 1==========\n",
      "Prior pathway count: 41\n",
      "Final pathway count: 12\n",
      "\n",
      "==========Tumor Site 2==========\n",
      "Prior pathway count: 59\n",
      "Final pathway count: 18\n"
     ]
    }
   ],
   "source": [
    "# Get intersection between healthy2 and site_diff for site1 and site2\n",
    "site1_diff_healthy2_inter_pw = site1_diff_pw.intersection(healthy2_pw)\n",
    "site2_diff_healthy2_inter_pw = site2_diff_pw.intersection(healthy2_pw)\n",
    "\n",
    "# Print pre and post pathway counts for both tumor sites\n",
    "print('==========Tumor Site 1==========')\n",
    "print('Prior pathway count: {}'.format(len(site1_diff_pw)))\n",
    "print('Final pathway count: {}'.format(len(site1_diff_healthy2_inter_pw)))\n",
    "\n",
    "print('\\n==========Tumor Site 2==========')\n",
    "print('Prior pathway count: {}'.format(len(site2_diff_pw)))\n",
    "print('Final pathway count: {}'.format(len(site2_diff_healthy2_inter_pw)))"
   ]
  },
  {
   "cell_type": "code",
   "execution_count": 22,
   "metadata": {},
   "outputs": [
    {
     "name": "stdout",
     "output_type": "stream",
     "text": [
      "==========Tumor Site 1: Pathways==========\n",
      "Post-translational protein modification Homo sapiens R-HSA-597592\n",
      "tRNA Aminoacylation Homo sapiens R-HSA-379724\n",
      "Class I MHC mediated antigen processing & presentation Homo sapiens R-HSA-983169\n",
      "Gene Expression Homo sapiens R-HSA-74160\n",
      "proteasome-mediated ubiquitin-dependent protein catabolic process (GO:0043161)\n",
      "S Phase Homo sapiens R-HSA-69242\n",
      "APC/C:Cdh1 mediated degradation of Cdc20 and other APC/C:Cdh1 targeted proteins in late mitosis/early G1 Homo sapiens R-HSA-174178\n",
      "Activation of gene expression by SREBF (SREBP) Homo sapiens R-HSA-2426168\n",
      "Asparagine N-linked glycosylation Homo sapiens R-HSA-446203\n",
      "APC/C:Cdc20 mediated degradation of mitotic proteins Homo sapiens R-HSA-176409\n",
      "Cdc20:Phospho-APC/C mediated degradation of Cyclin A Homo sapiens R-HSA-174184\n",
      "APC:Cdc20 mediated degradation of cell cycle proteins prior to satisfation of the cell cycle checkpoint Homo sapiens R-HSA-179419\n",
      "\n",
      "==========Tumor Site 2: Pathways==========\n",
      "Loss of Nlp from mitotic centrosomes Homo sapiens R-HSA-380259\n",
      "SUMOylation Homo sapiens R-HSA-2990846\n",
      "Recruitment of mitotic centrosome proteins and complexes Homo sapiens R-HSA-380270\n",
      "regulation of mitotic cell cycle phase transition (GO:1901990)\n",
      "DNA repair (GO:0006281)\n",
      "AURKA Activation by TPX2 Homo sapiens R-HSA-8854518\n",
      "Anchoring of the basal body to the plasma membrane Homo sapiens R-HSA-5620912\n",
      "Transcriptional Regulation by TP53 Homo sapiens R-HSA-3700989\n",
      "Regulation of TP53 Activity Homo sapiens R-HSA-5633007\n",
      "Mitotic Metaphase and Anaphase Homo sapiens R-HSA-2555396\n",
      "Regulation of PLK1 Activity at G2/M Transition Homo sapiens R-HSA-2565942\n",
      "regulation of G2/M transition of mitotic cell cycle (GO:0010389)\n",
      "Loss of proteins required for interphase microtubule organization?from the centrosome Homo sapiens R-HSA-380284\n",
      "SUMO E3 ligases SUMOylate target proteins Homo sapiens R-HSA-3108232\n",
      "cellular response to DNA damage stimulus (GO:0006974)\n",
      "Mitotic Anaphase Homo sapiens R-HSA-68882\n",
      "Centrosome maturation Homo sapiens R-HSA-380287\n",
      "SUMOylation of DNA replication proteins Homo sapiens R-HSA-4615885\n"
     ]
    }
   ],
   "source": [
    "print('==========Tumor Site 1: Pathways==========')\n",
    "print(*list(site1_diff_healthy2_inter_pw), sep='\\n')\n",
    "\n",
    "print('\\n==========Tumor Site 2: Pathways==========')\n",
    "print(*list(site2_diff_healthy2_inter_pw), sep='\\n')"
   ]
  }
 ],
 "metadata": {
  "kernelspec": {
   "display_name": "Python 3",
   "language": "python",
   "name": "python3"
  },
  "language_info": {
   "codemirror_mode": {
    "name": "ipython",
    "version": 3
   },
   "file_extension": ".py",
   "mimetype": "text/x-python",
   "name": "python",
   "nbconvert_exporter": "python",
   "pygments_lexer": "ipython3",
   "version": "3.6.9"
  }
 },
 "nbformat": 4,
 "nbformat_minor": 4
}
