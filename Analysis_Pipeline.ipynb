{
 "cells": [
  {
   "cell_type": "code",
   "execution_count": 5,
   "metadata": {},
   "outputs": [],
   "source": [
    "import numpy as np\n",
    "import pandas as pd\n",
    "import re\n",
    "\n",
    "from data_util import create_dataset, gene_selection, remove_mean_cutoffs_tumor\n",
    "from data_util import get_healthy_genes, differential_gene_expression_analysis, setup_gene_name_dict\n",
    "from data_util import run_enrichr, remove_mean_cutoffs_healthy, get_healthy2_gene_list, get_healthy_tissue_gene_exp_df\n",
    "\n",
    "from sklearn.preprocessing import StandardScaler\n",
    "from scipy.stats import ttest_ind\n",
    "from scipy.stats import norm\n",
    "\n",
    "import gseapy as gp\n",
    "import math\n",
    "from matplotlib import pyplot as plt"
   ]
  },
  {
   "cell_type": "markdown",
   "metadata": {},
   "source": [
    "# Read in data"
   ]
  },
  {
   "cell_type": "markdown",
   "metadata": {},
   "source": [
    "###  Note that the loaded data has already been log_2(x+1) transformed from the raw values"
   ]
  },
  {
   "cell_type": "code",
   "execution_count": 14,
   "metadata": {},
   "outputs": [],
   "source": [
    "cancer_type = 'BLCA'\n",
    "cancer_origin = 'Bladder'\n",
    "tumor_site1 = 'Lung'\n",
    "tumor_site2 = 'Liver'\n",
    "healthy_files_created = True\n",
    "\n",
    "# List of cutoffs used in the analysis:\n",
    "# 0) mean_cutoff_tumor_site1 = 1\n",
    "# 1) mean_cutoff_tumor_site2 = 1\n",
    "# 2) p_value_cutoff_tumor_site1 = 0.01\n",
    "# 3) p_value_cutoff_tumor_site2 = 0.01\n",
    "# 4) mean_cutoff_healthy2 = 4\n",
    "# 5) p_value_cutoff_healthy2 = 0.01\n",
    "cutoff_list = [1, 1, 0.01, 0.01, 4, 0.01]"
   ]
  },
  {
   "cell_type": "code",
   "execution_count": 3,
   "metadata": {},
   "outputs": [
    {
     "name": "stdout",
     "output_type": "stream",
     "text": [
      "==========Raw Data==========\n",
      "BLCA-Lung sample count: 31\n",
      "BLCA-Lung gene count: 60487\n",
      "\n",
      "BLCA-Liver sample count: 12\n",
      "BLCA-Liver gene count: 60487\n"
     ]
    }
   ],
   "source": [
    "filepath_new = '../mmc1-tony.xlsx'\n",
    "data_new = pd.read_excel(filepath_new,index_col=0)\n",
    "\n",
    "data_tumor_site1 = create_dataset(cancer_type = 'BLCA',\n",
    "                                new_tumor_event_site = 'Lung',\n",
    "                                data_new = data_new,\n",
    "                                filepath_ge = '../BLCA/TCGA-BLCA.htseq_fpkm.tsv',\n",
    "                                filepath_ph = '../BLCA/TCGA-BLCA.GDC_phenotype.tsv')\n",
    "\n",
    "data_tumor_site2 = create_dataset(cancer_type = 'BLCA',\n",
    "                                new_tumor_event_site = 'Liver',\n",
    "                                data_new = data_new,\n",
    "                                filepath_ge = '../BLCA/TCGA-BLCA.htseq_fpkm.tsv',\n",
    "                                filepath_ph = '../BLCA/TCGA-BLCA.GDC_phenotype.tsv')\n",
    "\n",
    "print('==========Raw Data==========')\n",
    "print('{}-{} sample count: {}'.format(cancer_type, tumor_site1, data_tumor_site1.shape[0]))\n",
    "print('{}-{} gene count: {}'.format(cancer_type, tumor_site1, data_tumor_site1.shape[1]))\n",
    "\n",
    "print('\\n{}-{} sample count: {}'.format(cancer_type, tumor_site2, data_tumor_site2.shape[0]))\n",
    "print('{}-{} gene count: {}'.format(cancer_type, tumor_site2, data_tumor_site2.shape[1]))"
   ]
  },
  {
   "cell_type": "code",
   "execution_count": 13,
   "metadata": {},
   "outputs": [],
   "source": [
    "# The pipeline requires two healthy gene expression datasets for each analysis\n",
    "\n",
    "if healthy_files_created == False:\n",
    "\n",
    "    sampleAttributesDS_path = '../GTEx_Analysis_v8_Annotations_SampleAttributesDS.txt'\n",
    "    gtexTCGA_path = '../TcgaTargetGtex_rsem_gene_fpkm'\n",
    "\n",
    "    # Healthy tissue data to compare with the tumor data from the cancer origin site (e.g. BRCA_lung to healthy breast)\n",
    "    healthy1_gene_exp_df = get_healthy_tissue_gene_exp_df(sample_attr_DS_path=sampleAttributesDS_path,\n",
    "                                                      gtex_tcga_path=gtexTCGA_path,\n",
    "                                                      tissue_str=cancer_origin)\n",
    "\n",
    "    # Healthy tissue data to compare with the first metastatic site (e.g. BRCA_lung to healthy lung)\n",
    "    healthy2_gene_exp_df = get_healthy_tissue_gene_exp_df(sample_attr_DS_path=sampleAttributesDS_path,\n",
    "                                                      gtex_tcga_path=gtexTCGA_path,\n",
    "                                                      tissue_str=tumor_site1)\n",
    "\n",
    "    # Write healthy tissue data to csv\n",
    "    healthy1_gene_exp_df.to_csv('../{}_gene_exp_healthy.csv'.format(cancer_origin))\n",
    "    healthy2_gene_exp_df.to_csv('../{}_gene_exp_healthy.csv'.format(tumor_site1))"
   ]
  },
  {
   "cell_type": "markdown",
   "metadata": {},
   "source": [
    "# Selection of Genes Related to Transporters and Enzymes"
   ]
  },
  {
   "cell_type": "code",
   "execution_count": 8,
   "metadata": {},
   "outputs": [
    {
     "name": "stdout",
     "output_type": "stream",
     "text": [
      "==========Post Gene Selection==========\n",
      "BLCA-Lung sample count: 30\n",
      "BLCA-Lung gene count: 4192\n",
      "\n",
      "BLCA-Liver sample count: 12\n",
      "BLCA-Liver gene count: 4192\n"
     ]
    }
   ],
   "source": [
    "# Get names df - List of genes related to transporter and enzyme production\n",
    "names_df = pd.read_csv('../ensembl_index.csv',index_col = 0)\n",
    "\n",
    "# Get bladder-lung data\n",
    "data_tumor_site1 = gene_selection(data_tumor_site1, names_df)\n",
    "\n",
    "# Manually inspect to make sure all samples end in \"01A\" or \"01B\"\n",
    "data_tumor_site1.drop('TCGA-GD-A2C5-11A', inplace=True) # Remove as sample ends in \"11A\"\n",
    "\n",
    "# Get bladder-liver data\n",
    "data_tumor_site2 = gene_selection(data_tumor_site2, names_df)\n",
    "\n",
    "print('==========Post Gene Selection==========')\n",
    "print('{}-{} sample count: {}'.format(cancer_type, tumor_site1, data_tumor_site1.shape[0]))\n",
    "print('{}-{} gene count: {}'.format(cancer_type, tumor_site1, data_tumor_site1.shape[1]))\n",
    "\n",
    "print('\\n{}-{} sample count: {}'.format(cancer_type, tumor_site2, data_tumor_site2.shape[0]))\n",
    "print('{}-{} gene count: {}'.format(cancer_type, tumor_site2, data_tumor_site2.shape[1]))    "
   ]
  },
  {
   "cell_type": "markdown",
   "metadata": {},
   "source": [
    "# Histograms and Mean Cutoffs of Tumor Samples"
   ]
  },
  {
   "cell_type": "code",
   "execution_count": 9,
   "metadata": {},
   "outputs": [
    {
     "name": "stdout",
     "output_type": "stream",
     "text": [
      "==========Post Mean Cutoffs==========\n",
      "BLCA-Lung sample count: 30\n",
      "BLCA-Lung gene count: 2959\n",
      "\n",
      "BLCA-Liver sample count: 12\n",
      "BLCA-Liver gene count: 2966\n"
     ]
    }
   ],
   "source": [
    "data_tumor_site1 = remove_mean_cutoffs_tumor(data_tumor_site1, cutoff = cutoff_list[0], plotting = False)\n",
    "data_tumor_site2 = remove_mean_cutoffs_tumor(data_tumor_site2, cutoff = cutoff_list[1], plotting = False)\n",
    "\n",
    "print('==========Post Mean Cutoffs==========')\n",
    "print('{}-{} sample count: {}'.format(cancer_type, tumor_site1, data_tumor_site1.shape[0]))\n",
    "print('{}-{} gene count: {}'.format(cancer_type, tumor_site1, data_tumor_site1.shape[1]))\n",
    "\n",
    "print('\\n{}-{} sample count: {}'.format(cancer_type, tumor_site2, data_tumor_site2.shape[0]))\n",
    "print('{}-{} gene count: {}'.format(cancer_type, tumor_site2, data_tumor_site2.shape[1]))    "
   ]
  },
  {
   "cell_type": "markdown",
   "metadata": {},
   "source": [
    "# Differential Gene Expression Analysis"
   ]
  },
  {
   "cell_type": "code",
   "execution_count": 15,
   "metadata": {},
   "outputs": [
    {
     "name": "stdout",
     "output_type": "stream",
     "text": [
      "==========Post Differential Gene Expression Analysis==========\n",
      "BLCA-Lung gene count: 234\n",
      "BLCA-Liver gene count: 209\n"
     ]
    }
   ],
   "source": [
    "filepath = '../Bladder_gene_exp_healthy.csv'\n",
    "healthy1_trunc_df = get_healthy_genes(filepath)\n",
    "\n",
    "tumor_site1_gene_list, _ = differential_gene_expression_analysis(data_tumor_site1, healthy1_trunc_df)\n",
    "tumor_site2_gene_list, _ = differential_gene_expression_analysis(data_tumor_site2, healthy1_trunc_df)\n",
    "\n",
    "print('==========Post Differential Gene Expression Analysis==========')\n",
    "print('{}-{} gene count: {}'.format(cancer_type, tumor_site1, len(tumor_site1_gene_list)))\n",
    "print('{}-{} gene count: {}'.format(cancer_type, tumor_site2, len(tumor_site2_gene_list)))"
   ]
  },
  {
   "cell_type": "markdown",
   "metadata": {},
   "source": [
    "# Gene Set Enrichment Analysis"
   ]
  },
  {
   "cell_type": "code",
   "execution_count": 16,
   "metadata": {
    "scrolled": true
   },
   "outputs": [],
   "source": [
    "# Setup ensembl/name dictionaries\n",
    "filepath = '../Ensembl_symbol_entrez.csv'\n",
    "ensembl2gene, gene2ensembl = setup_gene_name_dict(filepath)\n",
    "\n",
    "# Setup gene_sets libraries\n",
    "gene_sets = ['GO_Biological_Process_2018', 'Reactome_2016']\n",
    "\n",
    "# Run GSEA on BRCA-to-lung data\n",
    "tumor_site1_gene_enr_list = [ensembl2gene[ensembl] for ensembl in tumor_site1_gene_list]\n",
    "tumor_site1_enr = run_enrichr(gene_list = tumor_site1_gene_enr_list, gene_sets = gene_sets)\n",
    "tumor_site1_enr_results = tumor_site1_enr.results\n",
    "\n",
    "# Run GSEA on BRCA-to-liver data\n",
    "tumor_site2_gene_enr_list = [ensembl2gene[ensembl] for ensembl in tumor_site2_gene_list]\n",
    "tumor_site2_enr = run_enrichr(gene_list = tumor_site2_gene_enr_list, gene_sets = gene_sets)\n",
    "tumor_site2_enr_results = tumor_site2_enr.results\n",
    "\n",
    "# Get intersection of pathways for both metastatic sites\n",
    "tumor_site1_pw = set(tumor_site1_enr_results[tumor_site1_enr_results['Adjusted P-value'] < cutoff_list[2]]['Term'])\n",
    "tumor_site2_pw = set(tumor_site2_enr_results[tumor_site2_enr_results['Adjusted P-value'] < cutoff_list[3]]['Term'])\n",
    "\n",
    "# Get difference between intersection of pathways and preferred metastatic site pathway\n",
    "tumor_inter_pw = tumor_site1_pw.intersection(tumor_site2_pw)\n",
    "tumor_site1_diff_pw = tumor_site1_pw.difference(tumor_inter_pw)"
   ]
  },
  {
   "cell_type": "markdown",
   "metadata": {},
   "source": [
    "# Mean Cutoffs for Healthy Tissue Samples"
   ]
  },
  {
   "cell_type": "code",
   "execution_count": null,
   "metadata": {},
   "outputs": [],
   "source": [
    "filepath = '../Lung_gene_exp_healthy.csv'\n",
    "healthy2_trunc_df = get_healthy_genes(filepath)\n",
    "\n",
    "healthy2_results_df = remove_mean_cutoffs_healthy(healthy2_trunc_df, cutoff = cutoff_list[4], plotting = False)\n",
    "\n",
    "print('Pre-cutoff - healthy tissue gene count: {}'.format(healthy2_trunc_df.shape[1]))\n",
    "print('Post-cutoff - healthy tissue gene count: {}'.format(healthy2_results_df.shape[1]))"
   ]
  },
  {
   "cell_type": "markdown",
   "metadata": {},
   "source": [
    "# Gene Set Enrichment Analysis for Healthy Samples"
   ]
  },
  {
   "cell_type": "code",
   "execution_count": null,
   "metadata": {},
   "outputs": [],
   "source": [
    "healthy2_gene_list, missing_id_list = get_healthy2_gene_list(healthy2_results_df)\n",
    "\n",
    "# Run Enrichr on healthy2 gene list\n",
    "healthy2_enr = run_enrichr(gene_list = healthy2_gene_list, gene_sets = gene_sets)\n",
    "healthy2_enr_results = healthy2_enr.results\n",
    "\n",
    "healthy2_pw = set(healthy2_enr_results[healthy2_enr_results['Adjusted P-value'] < cutoff_list[5]]['Term'])\n",
    "\n",
    "# Get intersection between healthy2 and tumor_site1_diff\n",
    "tumor_site1_diff_healthy2_inter_pw = tumor_site1_diff_pw.intersection(healthy2_pw)\n",
    "\n",
    "# Print pre and post pathway counts\n",
    "print('Initial significant pathway count: {}'.format(len(tumor_site1_diff_pw)))\n",
    "print('Post-intersection pathway count: {}'.format(len(tumor_site1_diff_healthy2_inter_pw)))"
   ]
  },
  {
   "cell_type": "code",
   "execution_count": null,
   "metadata": {},
   "outputs": [],
   "source": [
    "list(tumor_site1_diff_healthy2_inter_pw)"
   ]
  },
  {
   "cell_type": "markdown",
   "metadata": {},
   "source": [
    "# K-Means Clustering"
   ]
  },
  {
   "cell_type": "code",
   "execution_count": 50,
   "metadata": {
    "jupyter": {
     "source_hidden": true
    }
   },
   "outputs": [],
   "source": [
    "# gene2idx = {}\n",
    "# idx2gene = {}\n",
    "\n",
    "# for i, gene in enumerate(gene_list):\n",
    "#     gene2idx[gene] = i\n",
    "#     idx2gene[i] = gene"
   ]
  },
  {
   "cell_type": "code",
   "execution_count": 51,
   "metadata": {
    "jupyter": {
     "source_hidden": true
    }
   },
   "outputs": [],
   "source": [
    "# from sklearn.cluster import KMeans\n",
    "# from sklearn import preprocessing\n",
    "\n",
    "# # Keep subset of genes that are effectively upregulated\n",
    "# BRCA_lung_subset_df = BRCA_lung_trunc_df[gene_list]\n",
    "# gene_array = BRCA_lung_subset_df.to_numpy()\n",
    "# gene_array_norm = preprocessing.normalize(gene_array.T)\n",
    "\n",
    "# def run_km(cluster_count_list, gene_list, verbose=False, plotting=False):\n",
    "    \n",
    "#     km_list = []\n",
    "\n",
    "#     # gene_array\n",
    "\n",
    "#     gene_list = np.array(gene_list)\n",
    "\n",
    "#     for cluster_count in cluster_count_list:\n",
    "    \n",
    "#         km2 = KMeans(n_clusters=cluster_count,init='random').fit(gene_array_norm)\n",
    "\n",
    "#         if verbose == True:\n",
    "\n",
    "#             for i in range(cluster_count):\n",
    "#                 print('----------Cluster {}----------'.format(i))\n",
    "#                 print(gene_list[km2.labels_==i])\n",
    "\n",
    "#         gene_list_km = []\n",
    "\n",
    "#         for i in range(cluster_count):\n",
    "#             gene_list_km.append(gene_list[km2.labels_==i])\n",
    "\n",
    "#         gene_index_km = [item for sublist in gene_list_km for item in sublist]\n",
    "#         gene_index_idx = [gene2idx[gene] for gene in gene_index_km]\n",
    "        \n",
    "#         if plotting == True:\n",
    "        \n",
    "#             plt.figure(figsize=(10,5))\n",
    "#             df = np.corrcoef(gene_array.T[gene_index_idx])\n",
    "#             plt.matshow(df, fignum=1)\n",
    "#             # plt.xticks(range(len(df.columns)), df.columns)\n",
    "#             # plt.yticks(range(len(df.columns)), df.columns)\n",
    "#             plt.colorbar()\n",
    "#             plt.show()\n",
    "            \n",
    "#         km_list.append(km2)\n",
    "            \n",
    "#     return km_list"
   ]
  },
  {
   "cell_type": "code",
   "execution_count": 52,
   "metadata": {
    "jupyter": {
     "source_hidden": true
    }
   },
   "outputs": [],
   "source": [
    "# from sklearn.cluster import KMeans \n",
    "# from sklearn import metrics \n",
    "# from scipy.spatial.distance import cdist \n",
    "# import numpy as np \n",
    "# import matplotlib.pyplot as plt  \n",
    "\n",
    "# distortions = [] \n",
    "# inertias = [] \n",
    "# mapping1 = {} \n",
    "# mapping2 = {} \n",
    "# K = range(1,20) \n",
    "  \n",
    "# for k in K: \n",
    "#     #Building and fitting the model \n",
    "#     kmeanModel = KMeans(n_clusters=k).fit(gene_array_norm) \n",
    "#     kmeanModel.fit(gene_array_norm)     \n",
    "      \n",
    "#     distortions.append(sum(np.min(cdist(gene_array_norm, kmeanModel.cluster_centers_, \n",
    "#                       'euclidean'),axis=1)) / gene_array_norm.shape[0]) \n",
    "#     inertias.append(kmeanModel.inertia_) \n",
    "  \n",
    "#     mapping1[k] = sum(np.min(cdist(gene_array_norm, kmeanModel.cluster_centers_, \n",
    "#                  'euclidean'),axis=1)) / gene_array_norm.shape[0] \n",
    "#     mapping2[k] = kmeanModel.inertia_ "
   ]
  },
  {
   "cell_type": "code",
   "execution_count": 53,
   "metadata": {
    "jupyter": {
     "source_hidden": true
    }
   },
   "outputs": [],
   "source": [
    "# for key,val in mapping1.items(): \n",
    "#     print(str(key)+' : '+str(val)) \n",
    "\n",
    "# plt.plot(K, distortions, 'bx-') \n",
    "# plt.xlabel('Values of K') \n",
    "# plt.ylabel('Distortion') \n",
    "# plt.title('The Elbow Method using Distortion') \n",
    "# plt.show() "
   ]
  },
  {
   "cell_type": "code",
   "execution_count": 54,
   "metadata": {
    "jupyter": {
     "source_hidden": true
    }
   },
   "outputs": [],
   "source": [
    "# for key,val in mapping2.items(): \n",
    "#     print(str(key)+' : '+str(val)) \n",
    "\n",
    "# plt.plot(K, inertias, 'bx-') \n",
    "# plt.xlabel('Values of K') \n",
    "# plt.ylabel('Inertia') \n",
    "# plt.title('The Elbow Method using Inertia') \n",
    "# plt.show()"
   ]
  },
  {
   "cell_type": "code",
   "execution_count": 55,
   "metadata": {
    "jupyter": {
     "source_hidden": true
    }
   },
   "outputs": [],
   "source": [
    "# cluster_count_list = [4] * 20\n",
    "\n",
    "# km_list = run_km(cluster_count_list,gene_list=gene_list,plotting=True)"
   ]
  },
  {
   "cell_type": "code",
   "execution_count": null,
   "metadata": {
    "jupyter": {
     "source_hidden": true
    }
   },
   "outputs": [],
   "source": [
    "# labels = [int(x) for x in km_list[2].labels_]\n",
    "# cluster_labels = np.unique(labels)\n",
    "# gene_cluster_dict = {gene: label for label, gene in zip(labels, gene_list)}"
   ]
  },
  {
   "cell_type": "code",
   "execution_count": null,
   "metadata": {
    "jupyter": {
     "source_hidden": true
    }
   },
   "outputs": [],
   "source": [
    "# def get_cluster_genes(cluster_id, labels, gene_list):\n",
    "#     cluster_idx = np.array([label == cluster_id for label in labels])\n",
    "#     gene_array = np.array(gene_list)\n",
    "#     cluster_genes = gene_array[cluster_idx]        \n",
    "    \n",
    "#     return cluster_genes\n",
    "\n",
    "# cluster_list = np.zeros(len(cluster_labels))\n",
    "# cluster_id = 0\n",
    "# labels = [int(x) for x in km_list[2].labels_]\n",
    "\n",
    "# genes_cluster0 = get_cluster_genes(cluster_id, labels, gene_list)"
   ]
  },
  {
   "cell_type": "code",
   "execution_count": null,
   "metadata": {
    "jupyter": {
     "source_hidden": true
    }
   },
   "outputs": [],
   "source": [
    "# BRCA_lung_subset_df"
   ]
  },
  {
   "cell_type": "code",
   "execution_count": null,
   "metadata": {
    "jupyter": {
     "source_hidden": true
    }
   },
   "outputs": [],
   "source": [
    "# gp.get_library_name(database='Human')"
   ]
  }
 ],
 "metadata": {
  "kernelspec": {
   "display_name": "Python 3",
   "language": "python",
   "name": "python3"
  },
  "language_info": {
   "codemirror_mode": {
    "name": "ipython",
    "version": 3
   },
   "file_extension": ".py",
   "mimetype": "text/x-python",
   "name": "python",
   "nbconvert_exporter": "python",
   "pygments_lexer": "ipython3",
   "version": "3.6.9"
  }
 },
 "nbformat": 4,
 "nbformat_minor": 4
}
