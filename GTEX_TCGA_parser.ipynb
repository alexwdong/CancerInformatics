{
 "cells": [
  {
   "cell_type": "code",
   "execution_count": 62,
   "metadata": {},
   "outputs": [],
   "source": [
    "import pandas as pd\n",
    "import numpy as np\n",
    "import time"
   ]
  },
  {
   "cell_type": "code",
   "execution_count": 74,
   "metadata": {},
   "outputs": [],
   "source": [
    "\n",
    "def get_healthy_tissue_gene_exp_df(sample_attr_DS_path,gtex_tcga_path,tissue_str):\n",
    "    '''\n",
    "    Inputs:\n",
    "        sample_attr_DS_path: path to a file that looks like 'GTEx_Analysis_v8_Annotations_SampleAttributesDS.txt'\n",
    "        gtex_tcga_path: path to a file that looks like 'D:\\Downloads\\TcgaTargetGtex_RSEM_isoform_fpkm\\TcgaTargetGtex_RSEM_isoform_fpkm'\n",
    "    Output:\n",
    "        gtex_tcga_df: data frame with different genes as rows, and different samples as columns\n",
    "    \n",
    "    \n",
    "    '''\n",
    "    \n",
    "    \n",
    "    #Read in attributes file. This file contains a map from Sample ID to Tissue type of sample. \n",
    "    #We read in two columns only, SAMPID (Sample ID) and SMTS\n",
    "    attributesDS_df = pd.read_csv(sample_attr_DS_path,delimiter='\\t',usecols=['SAMPID','SMTS'])\n",
    "\n",
    "    ids_and_tissue_type_df = attributesDS_df[attributesDS_df['SMTS']==tissue_str]\n",
    "    sample_ids_to_use = ids_and_tissue_type_df['SAMPID'].values # contains all the sample ids that we are looking for\n",
    "    \n",
    "    #We'll append 'sample' to the columns to look for, so that cols_to_read contains the name of all the columns to read\n",
    "    #from the GTEX+TCGA combined file.\n",
    "    cols_to_read = np.append(np.array(['sample']),sample_ids_to_use)\n",
    "    #Not all of the GTEX samples are present in the GTEX+TCGA combined file, so we need to find a set intersection between \n",
    "    #the SampleIds present in the sample_attr file and the gtex_tcga file\n",
    "    gtex_tcga_header = pd.read_csv(gtex_tcga_path,delimiter='\\t',nrows=1)\n",
    "    cols_to_read = np.intersect1d(cols_to_read,gtex_tcga_header.columns)\n",
    "    \n",
    "    #Now, we'll read the the TCGA+GTEX file for the gene expression of only the specific samples we need.\n",
    "    print(\"starting, this takes a while\")\n",
    "    start_time = time.time()\n",
    "    gtex_tcga_df = pd.read_csv('D:\\Downloads\\TcgaTargetGtex_RSEM_isoform_fpkm\\TcgaTargetGtex_RSEM_isoform_fpkm',delimiter='\\t',usecols=cols_to_read)\n",
    "    print('time elapsed:', time.time() - start_time)\n",
    "    \n",
    "    return gtex_tcga_df"
   ]
  },
  {
   "cell_type": "code",
   "execution_count": null,
   "metadata": {},
   "outputs": [
    {
     "name": "stdout",
     "output_type": "stream",
     "text": [
      "starting, this takes a while\n"
     ]
    }
   ],
   "source": [
    "sampleAttributesDS_path = './GTEx_Analysis_v8_Annotations_SampleAttributesDS.txt'\n",
    "gtexTCGA_path = 'D:\\Downloads\\TcgaTargetGtex_RSEM_isoform_fpkm\\TcgaTargetGtex_RSEM_isoform_fpkm'\n",
    "\n",
    "\n",
    "lung_gene_exp_df = get_healthy_tissue_gene_exp_df(sample_attr_DS_path=sampleAttributesDS_path,\n",
    "                                                  gtex_tcga_path=gtexTCGA_path,\n",
    "                                                  tissue_str='Lung')\n",
    "    \n",
    "    \n",
    "lung_gene_exp_df.head()"
   ]
  },
  {
   "cell_type": "code",
   "execution_count": null,
   "metadata": {},
   "outputs": [],
   "source": []
  }
 ],
 "metadata": {
  "kernelspec": {
   "display_name": "Python 3",
   "language": "python",
   "name": "python3"
  },
  "language_info": {
   "codemirror_mode": {
    "name": "ipython",
    "version": 3
   },
   "file_extension": ".py",
   "mimetype": "text/x-python",
   "name": "python",
   "nbconvert_exporter": "python",
   "pygments_lexer": "ipython3",
   "version": "3.7.7"
  }
 },
 "nbformat": 4,
 "nbformat_minor": 4
}
