{
 "cells": [
  {
   "cell_type": "code",
   "execution_count": 341,
   "metadata": {},
   "outputs": [],
   "source": [
    "import numpy as np\n",
    "import pandas as pd\n",
    "import re\n",
    "from scipy.stats import norm\n",
    "\n",
    "from matplotlib import pyplot as plt\n",
    "from data_util import create_dataset\n",
    "from sklearn.preprocessing import StandardScaler\n",
    "from scipy.stats import ttest_ind\n",
    "from sklearn.cluster import DBSCAN\n",
    "\n",
    "pd.options.display.max_rows = 100\n",
    "pd.set_option('display.max_rows', None)"
   ]
  },
  {
   "cell_type": "markdown",
   "metadata": {},
   "source": [
    "# Read in data"
   ]
  },
  {
   "cell_type": "markdown",
   "metadata": {},
   "source": [
    "###  Note that the loaded data has already been log_2(x+1) transformed from the raw values"
   ]
  },
  {
   "cell_type": "code",
   "execution_count": 2,
   "metadata": {},
   "outputs": [],
   "source": [
    "# Read in new data\n",
    "filepath_new = '../mmc1-tony.xlsx'\n",
    "data_new = pd.read_excel(filepath_new,index_col=0)"
   ]
  },
  {
   "cell_type": "code",
   "execution_count": 279,
   "metadata": {},
   "outputs": [],
   "source": [
    "data_BRCA_lung = create_dataset(cancer_type = 'BRCA',\n",
    "                                new_tumor_event_site = 'Lung',\n",
    "                                data_new = data_new,\n",
    "                                filepath_ge = '../BRCA/TCGA-BRCA.htseq_fpkm.tsv',\n",
    "                                filepath_ph = '../BRCA/TCGA-BRCA.GDC_phenotype.tsv')"
   ]
  },
  {
   "cell_type": "code",
   "execution_count": 280,
   "metadata": {},
   "outputs": [
    {
     "data": {
      "text/html": [
       "<div>\n",
       "<style scoped>\n",
       "    .dataframe tbody tr th:only-of-type {\n",
       "        vertical-align: middle;\n",
       "    }\n",
       "\n",
       "    .dataframe tbody tr th {\n",
       "        vertical-align: top;\n",
       "    }\n",
       "\n",
       "    .dataframe thead th {\n",
       "        text-align: right;\n",
       "    }\n",
       "</style>\n",
       "<table border=\"1\" class=\"dataframe\">\n",
       "  <thead>\n",
       "    <tr style=\"text-align: right;\">\n",
       "      <th></th>\n",
       "      <th>ENSG00000242268.2</th>\n",
       "      <th>ENSG00000270112.3</th>\n",
       "      <th>ENSG00000167578.15</th>\n",
       "      <th>ENSG00000273842.1</th>\n",
       "      <th>ENSG00000078237.5</th>\n",
       "      <th>ENSG00000146083.10</th>\n",
       "      <th>ENSG00000225275.4</th>\n",
       "      <th>ENSG00000158486.12</th>\n",
       "      <th>ENSG00000198242.12</th>\n",
       "      <th>ENSG00000259883.1</th>\n",
       "      <th>...</th>\n",
       "      <th>ENSG00000273233.1</th>\n",
       "      <th>ENSG00000105063.17</th>\n",
       "      <th>ENSG00000231119.2</th>\n",
       "      <th>ENSG00000280861.1</th>\n",
       "      <th>ENSG00000123685.7</th>\n",
       "      <th>ENSG00000181518.3</th>\n",
       "      <th>sample_id</th>\n",
       "      <th>bcr_patient_barcode</th>\n",
       "      <th>new_tumor_event_site</th>\n",
       "      <th>sample_type.samples</th>\n",
       "    </tr>\n",
       "    <tr>\n",
       "      <th>sample_id</th>\n",
       "      <th></th>\n",
       "      <th></th>\n",
       "      <th></th>\n",
       "      <th></th>\n",
       "      <th></th>\n",
       "      <th></th>\n",
       "      <th></th>\n",
       "      <th></th>\n",
       "      <th></th>\n",
       "      <th></th>\n",
       "      <th></th>\n",
       "      <th></th>\n",
       "      <th></th>\n",
       "      <th></th>\n",
       "      <th></th>\n",
       "      <th></th>\n",
       "      <th></th>\n",
       "      <th></th>\n",
       "      <th></th>\n",
       "      <th></th>\n",
       "      <th></th>\n",
       "    </tr>\n",
       "  </thead>\n",
       "  <tbody>\n",
       "    <tr>\n",
       "      <td>TCGA-A2-A3XS-01A</td>\n",
       "      <td>0.000000</td>\n",
       "      <td>0.000000</td>\n",
       "      <td>2.188195</td>\n",
       "      <td>0.000000</td>\n",
       "      <td>1.748448</td>\n",
       "      <td>3.943407</td>\n",
       "      <td>0.000000</td>\n",
       "      <td>0.016324</td>\n",
       "      <td>7.308638</td>\n",
       "      <td>0.000000</td>\n",
       "      <td>...</td>\n",
       "      <td>0.195737</td>\n",
       "      <td>3.972232</td>\n",
       "      <td>0.349083</td>\n",
       "      <td>0.0</td>\n",
       "      <td>0.986316</td>\n",
       "      <td>0.0</td>\n",
       "      <td>TCGA-A2-A3XS-01A</td>\n",
       "      <td>TCGA-A2-A3XS</td>\n",
       "      <td>Lung</td>\n",
       "      <td>Primary Tumor</td>\n",
       "    </tr>\n",
       "    <tr>\n",
       "      <td>TCGA-B6-A409-01A</td>\n",
       "      <td>0.000000</td>\n",
       "      <td>0.000000</td>\n",
       "      <td>1.592924</td>\n",
       "      <td>0.000000</td>\n",
       "      <td>0.907229</td>\n",
       "      <td>3.270728</td>\n",
       "      <td>0.071389</td>\n",
       "      <td>0.157954</td>\n",
       "      <td>7.320173</td>\n",
       "      <td>0.078148</td>\n",
       "      <td>...</td>\n",
       "      <td>0.000000</td>\n",
       "      <td>3.448320</td>\n",
       "      <td>0.279186</td>\n",
       "      <td>0.0</td>\n",
       "      <td>1.320473</td>\n",
       "      <td>0.0</td>\n",
       "      <td>TCGA-B6-A409-01A</td>\n",
       "      <td>TCGA-B6-A409</td>\n",
       "      <td>Lung</td>\n",
       "      <td>Primary Tumor</td>\n",
       "    </tr>\n",
       "    <tr>\n",
       "      <td>TCGA-B6-A0I1-01A</td>\n",
       "      <td>0.000000</td>\n",
       "      <td>0.008025</td>\n",
       "      <td>1.566140</td>\n",
       "      <td>0.000000</td>\n",
       "      <td>2.080369</td>\n",
       "      <td>2.726910</td>\n",
       "      <td>0.000000</td>\n",
       "      <td>0.169888</td>\n",
       "      <td>8.075526</td>\n",
       "      <td>0.026461</td>\n",
       "      <td>...</td>\n",
       "      <td>0.047540</td>\n",
       "      <td>2.601373</td>\n",
       "      <td>1.057151</td>\n",
       "      <td>0.0</td>\n",
       "      <td>0.992014</td>\n",
       "      <td>0.0</td>\n",
       "      <td>TCGA-B6-A0I1-01A</td>\n",
       "      <td>TCGA-B6-A0I1</td>\n",
       "      <td>Lung</td>\n",
       "      <td>Primary Tumor</td>\n",
       "    </tr>\n",
       "    <tr>\n",
       "      <td>TCGA-BH-A1EY-01A</td>\n",
       "      <td>0.000000</td>\n",
       "      <td>0.006257</td>\n",
       "      <td>2.287106</td>\n",
       "      <td>0.000000</td>\n",
       "      <td>2.294679</td>\n",
       "      <td>3.938652</td>\n",
       "      <td>0.000000</td>\n",
       "      <td>0.941261</td>\n",
       "      <td>6.955325</td>\n",
       "      <td>0.080917</td>\n",
       "      <td>...</td>\n",
       "      <td>0.000000</td>\n",
       "      <td>4.374549</td>\n",
       "      <td>0.331327</td>\n",
       "      <td>0.0</td>\n",
       "      <td>0.600684</td>\n",
       "      <td>0.0</td>\n",
       "      <td>TCGA-BH-A1EY-01A</td>\n",
       "      <td>TCGA-BH-A1EY</td>\n",
       "      <td>Lung</td>\n",
       "      <td>Primary Tumor</td>\n",
       "    </tr>\n",
       "    <tr>\n",
       "      <td>TCGA-EW-A1P1-01A</td>\n",
       "      <td>0.091184</td>\n",
       "      <td>0.000000</td>\n",
       "      <td>1.680844</td>\n",
       "      <td>0.000000</td>\n",
       "      <td>2.855336</td>\n",
       "      <td>3.267594</td>\n",
       "      <td>0.000000</td>\n",
       "      <td>0.011125</td>\n",
       "      <td>7.184775</td>\n",
       "      <td>0.239088</td>\n",
       "      <td>...</td>\n",
       "      <td>0.000000</td>\n",
       "      <td>3.762484</td>\n",
       "      <td>0.222120</td>\n",
       "      <td>0.0</td>\n",
       "      <td>1.516585</td>\n",
       "      <td>0.0</td>\n",
       "      <td>TCGA-EW-A1P1-01A</td>\n",
       "      <td>TCGA-EW-A1P1</td>\n",
       "      <td>Lung</td>\n",
       "      <td>Primary Tumor</td>\n",
       "    </tr>\n",
       "    <tr>\n",
       "      <td>TCGA-AR-A5QQ-01A</td>\n",
       "      <td>0.000000</td>\n",
       "      <td>0.000000</td>\n",
       "      <td>2.050921</td>\n",
       "      <td>0.000000</td>\n",
       "      <td>2.513511</td>\n",
       "      <td>3.040755</td>\n",
       "      <td>0.000000</td>\n",
       "      <td>0.108066</td>\n",
       "      <td>7.331879</td>\n",
       "      <td>0.253488</td>\n",
       "      <td>...</td>\n",
       "      <td>0.000000</td>\n",
       "      <td>3.947990</td>\n",
       "      <td>0.097843</td>\n",
       "      <td>0.0</td>\n",
       "      <td>1.293070</td>\n",
       "      <td>0.0</td>\n",
       "      <td>TCGA-AR-A5QQ-01A</td>\n",
       "      <td>TCGA-AR-A5QQ</td>\n",
       "      <td>Lung</td>\n",
       "      <td>Primary Tumor</td>\n",
       "    </tr>\n",
       "    <tr>\n",
       "      <td>TCGA-E2-A1LE-01A</td>\n",
       "      <td>0.072704</td>\n",
       "      <td>0.000000</td>\n",
       "      <td>2.326930</td>\n",
       "      <td>0.000000</td>\n",
       "      <td>2.295381</td>\n",
       "      <td>3.601933</td>\n",
       "      <td>0.000000</td>\n",
       "      <td>0.005299</td>\n",
       "      <td>8.107163</td>\n",
       "      <td>0.162199</td>\n",
       "      <td>...</td>\n",
       "      <td>0.000000</td>\n",
       "      <td>3.741809</td>\n",
       "      <td>0.071371</td>\n",
       "      <td>0.0</td>\n",
       "      <td>0.915310</td>\n",
       "      <td>0.0</td>\n",
       "      <td>TCGA-E2-A1LE-01A</td>\n",
       "      <td>TCGA-E2-A1LE</td>\n",
       "      <td>Lung</td>\n",
       "      <td>Primary Tumor</td>\n",
       "    </tr>\n",
       "    <tr>\n",
       "      <td>TCGA-EW-A1P8-01A</td>\n",
       "      <td>0.000000</td>\n",
       "      <td>0.000000</td>\n",
       "      <td>1.749768</td>\n",
       "      <td>0.000000</td>\n",
       "      <td>3.565526</td>\n",
       "      <td>3.109890</td>\n",
       "      <td>0.000000</td>\n",
       "      <td>0.006606</td>\n",
       "      <td>6.917720</td>\n",
       "      <td>0.031766</td>\n",
       "      <td>...</td>\n",
       "      <td>0.056990</td>\n",
       "      <td>5.003280</td>\n",
       "      <td>0.318117</td>\n",
       "      <td>0.0</td>\n",
       "      <td>0.620852</td>\n",
       "      <td>0.0</td>\n",
       "      <td>TCGA-EW-A1P8-01A</td>\n",
       "      <td>TCGA-EW-A1P8</td>\n",
       "      <td>Lung</td>\n",
       "      <td>Primary Tumor</td>\n",
       "    </tr>\n",
       "    <tr>\n",
       "      <td>TCGA-3C-AAAU-01A</td>\n",
       "      <td>0.000000</td>\n",
       "      <td>0.000000</td>\n",
       "      <td>2.225387</td>\n",
       "      <td>0.000000</td>\n",
       "      <td>1.498832</td>\n",
       "      <td>3.771037</td>\n",
       "      <td>0.000000</td>\n",
       "      <td>0.004982</td>\n",
       "      <td>7.086283</td>\n",
       "      <td>0.031925</td>\n",
       "      <td>...</td>\n",
       "      <td>0.057271</td>\n",
       "      <td>4.464153</td>\n",
       "      <td>0.308488</td>\n",
       "      <td>0.0</td>\n",
       "      <td>0.326940</td>\n",
       "      <td>0.0</td>\n",
       "      <td>TCGA-3C-AAAU-01A</td>\n",
       "      <td>TCGA-3C-AAAU</td>\n",
       "      <td>Lung</td>\n",
       "      <td>Primary Tumor</td>\n",
       "    </tr>\n",
       "    <tr>\n",
       "      <td>TCGA-D8-A73W-01A</td>\n",
       "      <td>0.000000</td>\n",
       "      <td>0.000000</td>\n",
       "      <td>2.046030</td>\n",
       "      <td>0.000000</td>\n",
       "      <td>2.205582</td>\n",
       "      <td>3.713529</td>\n",
       "      <td>0.000000</td>\n",
       "      <td>0.009755</td>\n",
       "      <td>6.856483</td>\n",
       "      <td>0.211597</td>\n",
       "      <td>...</td>\n",
       "      <td>0.131327</td>\n",
       "      <td>4.285047</td>\n",
       "      <td>0.331231</td>\n",
       "      <td>0.0</td>\n",
       "      <td>0.716741</td>\n",
       "      <td>0.0</td>\n",
       "      <td>TCGA-D8-A73W-01A</td>\n",
       "      <td>TCGA-D8-A73W</td>\n",
       "      <td>Lung</td>\n",
       "      <td>Primary Tumor</td>\n",
       "    </tr>\n",
       "    <tr>\n",
       "      <td>TCGA-E2-A10B-01A</td>\n",
       "      <td>0.000000</td>\n",
       "      <td>0.007769</td>\n",
       "      <td>2.036247</td>\n",
       "      <td>0.278014</td>\n",
       "      <td>2.720995</td>\n",
       "      <td>3.733452</td>\n",
       "      <td>0.000000</td>\n",
       "      <td>0.121312</td>\n",
       "      <td>6.377915</td>\n",
       "      <td>0.123780</td>\n",
       "      <td>...</td>\n",
       "      <td>0.090657</td>\n",
       "      <td>4.242380</td>\n",
       "      <td>0.409648</td>\n",
       "      <td>0.0</td>\n",
       "      <td>0.406946</td>\n",
       "      <td>0.0</td>\n",
       "      <td>TCGA-E2-A10B-01A</td>\n",
       "      <td>TCGA-E2-A10B</td>\n",
       "      <td>Lung</td>\n",
       "      <td>Primary Tumor</td>\n",
       "    </tr>\n",
       "    <tr>\n",
       "      <td>TCGA-E9-A1NF-01A</td>\n",
       "      <td>0.000000</td>\n",
       "      <td>0.000000</td>\n",
       "      <td>1.878246</td>\n",
       "      <td>0.000000</td>\n",
       "      <td>2.123492</td>\n",
       "      <td>3.246663</td>\n",
       "      <td>0.111964</td>\n",
       "      <td>0.008752</td>\n",
       "      <td>6.948231</td>\n",
       "      <td>0.161004</td>\n",
       "      <td>...</td>\n",
       "      <td>0.000000</td>\n",
       "      <td>3.234838</td>\n",
       "      <td>0.104980</td>\n",
       "      <td>0.0</td>\n",
       "      <td>0.986530</td>\n",
       "      <td>0.0</td>\n",
       "      <td>TCGA-E9-A1NF-01A</td>\n",
       "      <td>TCGA-E9-A1NF</td>\n",
       "      <td>Lung</td>\n",
       "      <td>Primary Tumor</td>\n",
       "    </tr>\n",
       "    <tr>\n",
       "      <td>TCGA-E9-A1NF-11A</td>\n",
       "      <td>0.669685</td>\n",
       "      <td>0.000000</td>\n",
       "      <td>1.501011</td>\n",
       "      <td>0.000000</td>\n",
       "      <td>2.095262</td>\n",
       "      <td>2.910268</td>\n",
       "      <td>0.000000</td>\n",
       "      <td>0.032719</td>\n",
       "      <td>6.292874</td>\n",
       "      <td>0.455125</td>\n",
       "      <td>...</td>\n",
       "      <td>0.000000</td>\n",
       "      <td>3.492087</td>\n",
       "      <td>0.102685</td>\n",
       "      <td>0.0</td>\n",
       "      <td>1.527693</td>\n",
       "      <td>0.0</td>\n",
       "      <td>TCGA-E9-A1NF-11A</td>\n",
       "      <td>TCGA-E9-A1NF</td>\n",
       "      <td>Lung</td>\n",
       "      <td>Solid Tissue Normal</td>\n",
       "    </tr>\n",
       "    <tr>\n",
       "      <td>TCGA-OL-A97C-01A</td>\n",
       "      <td>0.059101</td>\n",
       "      <td>0.000000</td>\n",
       "      <td>1.623569</td>\n",
       "      <td>0.000000</td>\n",
       "      <td>2.033401</td>\n",
       "      <td>3.599375</td>\n",
       "      <td>0.000000</td>\n",
       "      <td>0.019904</td>\n",
       "      <td>7.337234</td>\n",
       "      <td>0.206683</td>\n",
       "      <td>...</td>\n",
       "      <td>0.097198</td>\n",
       "      <td>4.130954</td>\n",
       "      <td>0.239439</td>\n",
       "      <td>0.0</td>\n",
       "      <td>1.987567</td>\n",
       "      <td>0.0</td>\n",
       "      <td>TCGA-OL-A97C-01A</td>\n",
       "      <td>TCGA-OL-A97C</td>\n",
       "      <td>Lung</td>\n",
       "      <td>Primary Tumor</td>\n",
       "    </tr>\n",
       "    <tr>\n",
       "      <td>TCGA-AO-A03U-01B</td>\n",
       "      <td>0.024754</td>\n",
       "      <td>0.003460</td>\n",
       "      <td>1.742857</td>\n",
       "      <td>0.000000</td>\n",
       "      <td>2.645131</td>\n",
       "      <td>3.035777</td>\n",
       "      <td>0.000000</td>\n",
       "      <td>0.009449</td>\n",
       "      <td>6.873505</td>\n",
       "      <td>0.152583</td>\n",
       "      <td>...</td>\n",
       "      <td>0.041023</td>\n",
       "      <td>3.850025</td>\n",
       "      <td>0.217870</td>\n",
       "      <td>0.0</td>\n",
       "      <td>1.262718</td>\n",
       "      <td>0.0</td>\n",
       "      <td>TCGA-AO-A03U-01B</td>\n",
       "      <td>TCGA-AO-A03U</td>\n",
       "      <td>Lung</td>\n",
       "      <td>Primary Tumor</td>\n",
       "    </tr>\n",
       "    <tr>\n",
       "      <td>TCGA-A2-A3XY-01A</td>\n",
       "      <td>0.049175</td>\n",
       "      <td>0.003466</td>\n",
       "      <td>2.598986</td>\n",
       "      <td>0.000000</td>\n",
       "      <td>2.675118</td>\n",
       "      <td>3.819671</td>\n",
       "      <td>0.000000</td>\n",
       "      <td>0.023547</td>\n",
       "      <td>6.844789</td>\n",
       "      <td>0.152837</td>\n",
       "      <td>...</td>\n",
       "      <td>0.194680</td>\n",
       "      <td>4.264062</td>\n",
       "      <td>0.113235</td>\n",
       "      <td>0.0</td>\n",
       "      <td>1.351431</td>\n",
       "      <td>0.0</td>\n",
       "      <td>TCGA-A2-A3XY-01A</td>\n",
       "      <td>TCGA-A2-A3XY</td>\n",
       "      <td>Lung</td>\n",
       "      <td>Primary Tumor</td>\n",
       "    </tr>\n",
       "  </tbody>\n",
       "</table>\n",
       "<p>16 rows × 60487 columns</p>\n",
       "</div>"
      ],
      "text/plain": [
       "                  ENSG00000242268.2  ENSG00000270112.3  ENSG00000167578.15  \\\n",
       "sample_id                                                                    \n",
       "TCGA-A2-A3XS-01A           0.000000           0.000000            2.188195   \n",
       "TCGA-B6-A409-01A           0.000000           0.000000            1.592924   \n",
       "TCGA-B6-A0I1-01A           0.000000           0.008025            1.566140   \n",
       "TCGA-BH-A1EY-01A           0.000000           0.006257            2.287106   \n",
       "TCGA-EW-A1P1-01A           0.091184           0.000000            1.680844   \n",
       "TCGA-AR-A5QQ-01A           0.000000           0.000000            2.050921   \n",
       "TCGA-E2-A1LE-01A           0.072704           0.000000            2.326930   \n",
       "TCGA-EW-A1P8-01A           0.000000           0.000000            1.749768   \n",
       "TCGA-3C-AAAU-01A           0.000000           0.000000            2.225387   \n",
       "TCGA-D8-A73W-01A           0.000000           0.000000            2.046030   \n",
       "TCGA-E2-A10B-01A           0.000000           0.007769            2.036247   \n",
       "TCGA-E9-A1NF-01A           0.000000           0.000000            1.878246   \n",
       "TCGA-E9-A1NF-11A           0.669685           0.000000            1.501011   \n",
       "TCGA-OL-A97C-01A           0.059101           0.000000            1.623569   \n",
       "TCGA-AO-A03U-01B           0.024754           0.003460            1.742857   \n",
       "TCGA-A2-A3XY-01A           0.049175           0.003466            2.598986   \n",
       "\n",
       "                  ENSG00000273842.1  ENSG00000078237.5  ENSG00000146083.10  \\\n",
       "sample_id                                                                    \n",
       "TCGA-A2-A3XS-01A           0.000000           1.748448            3.943407   \n",
       "TCGA-B6-A409-01A           0.000000           0.907229            3.270728   \n",
       "TCGA-B6-A0I1-01A           0.000000           2.080369            2.726910   \n",
       "TCGA-BH-A1EY-01A           0.000000           2.294679            3.938652   \n",
       "TCGA-EW-A1P1-01A           0.000000           2.855336            3.267594   \n",
       "TCGA-AR-A5QQ-01A           0.000000           2.513511            3.040755   \n",
       "TCGA-E2-A1LE-01A           0.000000           2.295381            3.601933   \n",
       "TCGA-EW-A1P8-01A           0.000000           3.565526            3.109890   \n",
       "TCGA-3C-AAAU-01A           0.000000           1.498832            3.771037   \n",
       "TCGA-D8-A73W-01A           0.000000           2.205582            3.713529   \n",
       "TCGA-E2-A10B-01A           0.278014           2.720995            3.733452   \n",
       "TCGA-E9-A1NF-01A           0.000000           2.123492            3.246663   \n",
       "TCGA-E9-A1NF-11A           0.000000           2.095262            2.910268   \n",
       "TCGA-OL-A97C-01A           0.000000           2.033401            3.599375   \n",
       "TCGA-AO-A03U-01B           0.000000           2.645131            3.035777   \n",
       "TCGA-A2-A3XY-01A           0.000000           2.675118            3.819671   \n",
       "\n",
       "                  ENSG00000225275.4  ENSG00000158486.12  ENSG00000198242.12  \\\n",
       "sample_id                                                                     \n",
       "TCGA-A2-A3XS-01A           0.000000            0.016324            7.308638   \n",
       "TCGA-B6-A409-01A           0.071389            0.157954            7.320173   \n",
       "TCGA-B6-A0I1-01A           0.000000            0.169888            8.075526   \n",
       "TCGA-BH-A1EY-01A           0.000000            0.941261            6.955325   \n",
       "TCGA-EW-A1P1-01A           0.000000            0.011125            7.184775   \n",
       "TCGA-AR-A5QQ-01A           0.000000            0.108066            7.331879   \n",
       "TCGA-E2-A1LE-01A           0.000000            0.005299            8.107163   \n",
       "TCGA-EW-A1P8-01A           0.000000            0.006606            6.917720   \n",
       "TCGA-3C-AAAU-01A           0.000000            0.004982            7.086283   \n",
       "TCGA-D8-A73W-01A           0.000000            0.009755            6.856483   \n",
       "TCGA-E2-A10B-01A           0.000000            0.121312            6.377915   \n",
       "TCGA-E9-A1NF-01A           0.111964            0.008752            6.948231   \n",
       "TCGA-E9-A1NF-11A           0.000000            0.032719            6.292874   \n",
       "TCGA-OL-A97C-01A           0.000000            0.019904            7.337234   \n",
       "TCGA-AO-A03U-01B           0.000000            0.009449            6.873505   \n",
       "TCGA-A2-A3XY-01A           0.000000            0.023547            6.844789   \n",
       "\n",
       "                  ENSG00000259883.1  ...  ENSG00000273233.1  \\\n",
       "sample_id                            ...                      \n",
       "TCGA-A2-A3XS-01A           0.000000  ...           0.195737   \n",
       "TCGA-B6-A409-01A           0.078148  ...           0.000000   \n",
       "TCGA-B6-A0I1-01A           0.026461  ...           0.047540   \n",
       "TCGA-BH-A1EY-01A           0.080917  ...           0.000000   \n",
       "TCGA-EW-A1P1-01A           0.239088  ...           0.000000   \n",
       "TCGA-AR-A5QQ-01A           0.253488  ...           0.000000   \n",
       "TCGA-E2-A1LE-01A           0.162199  ...           0.000000   \n",
       "TCGA-EW-A1P8-01A           0.031766  ...           0.056990   \n",
       "TCGA-3C-AAAU-01A           0.031925  ...           0.057271   \n",
       "TCGA-D8-A73W-01A           0.211597  ...           0.131327   \n",
       "TCGA-E2-A10B-01A           0.123780  ...           0.090657   \n",
       "TCGA-E9-A1NF-01A           0.161004  ...           0.000000   \n",
       "TCGA-E9-A1NF-11A           0.455125  ...           0.000000   \n",
       "TCGA-OL-A97C-01A           0.206683  ...           0.097198   \n",
       "TCGA-AO-A03U-01B           0.152583  ...           0.041023   \n",
       "TCGA-A2-A3XY-01A           0.152837  ...           0.194680   \n",
       "\n",
       "                  ENSG00000105063.17  ENSG00000231119.2  ENSG00000280861.1  \\\n",
       "sample_id                                                                    \n",
       "TCGA-A2-A3XS-01A            3.972232           0.349083                0.0   \n",
       "TCGA-B6-A409-01A            3.448320           0.279186                0.0   \n",
       "TCGA-B6-A0I1-01A            2.601373           1.057151                0.0   \n",
       "TCGA-BH-A1EY-01A            4.374549           0.331327                0.0   \n",
       "TCGA-EW-A1P1-01A            3.762484           0.222120                0.0   \n",
       "TCGA-AR-A5QQ-01A            3.947990           0.097843                0.0   \n",
       "TCGA-E2-A1LE-01A            3.741809           0.071371                0.0   \n",
       "TCGA-EW-A1P8-01A            5.003280           0.318117                0.0   \n",
       "TCGA-3C-AAAU-01A            4.464153           0.308488                0.0   \n",
       "TCGA-D8-A73W-01A            4.285047           0.331231                0.0   \n",
       "TCGA-E2-A10B-01A            4.242380           0.409648                0.0   \n",
       "TCGA-E9-A1NF-01A            3.234838           0.104980                0.0   \n",
       "TCGA-E9-A1NF-11A            3.492087           0.102685                0.0   \n",
       "TCGA-OL-A97C-01A            4.130954           0.239439                0.0   \n",
       "TCGA-AO-A03U-01B            3.850025           0.217870                0.0   \n",
       "TCGA-A2-A3XY-01A            4.264062           0.113235                0.0   \n",
       "\n",
       "                  ENSG00000123685.7  ENSG00000181518.3         sample_id  \\\n",
       "sample_id                                                                  \n",
       "TCGA-A2-A3XS-01A           0.986316                0.0  TCGA-A2-A3XS-01A   \n",
       "TCGA-B6-A409-01A           1.320473                0.0  TCGA-B6-A409-01A   \n",
       "TCGA-B6-A0I1-01A           0.992014                0.0  TCGA-B6-A0I1-01A   \n",
       "TCGA-BH-A1EY-01A           0.600684                0.0  TCGA-BH-A1EY-01A   \n",
       "TCGA-EW-A1P1-01A           1.516585                0.0  TCGA-EW-A1P1-01A   \n",
       "TCGA-AR-A5QQ-01A           1.293070                0.0  TCGA-AR-A5QQ-01A   \n",
       "TCGA-E2-A1LE-01A           0.915310                0.0  TCGA-E2-A1LE-01A   \n",
       "TCGA-EW-A1P8-01A           0.620852                0.0  TCGA-EW-A1P8-01A   \n",
       "TCGA-3C-AAAU-01A           0.326940                0.0  TCGA-3C-AAAU-01A   \n",
       "TCGA-D8-A73W-01A           0.716741                0.0  TCGA-D8-A73W-01A   \n",
       "TCGA-E2-A10B-01A           0.406946                0.0  TCGA-E2-A10B-01A   \n",
       "TCGA-E9-A1NF-01A           0.986530                0.0  TCGA-E9-A1NF-01A   \n",
       "TCGA-E9-A1NF-11A           1.527693                0.0  TCGA-E9-A1NF-11A   \n",
       "TCGA-OL-A97C-01A           1.987567                0.0  TCGA-OL-A97C-01A   \n",
       "TCGA-AO-A03U-01B           1.262718                0.0  TCGA-AO-A03U-01B   \n",
       "TCGA-A2-A3XY-01A           1.351431                0.0  TCGA-A2-A3XY-01A   \n",
       "\n",
       "                  bcr_patient_barcode  new_tumor_event_site  \\\n",
       "sample_id                                                     \n",
       "TCGA-A2-A3XS-01A         TCGA-A2-A3XS                  Lung   \n",
       "TCGA-B6-A409-01A         TCGA-B6-A409                  Lung   \n",
       "TCGA-B6-A0I1-01A         TCGA-B6-A0I1                  Lung   \n",
       "TCGA-BH-A1EY-01A         TCGA-BH-A1EY                  Lung   \n",
       "TCGA-EW-A1P1-01A         TCGA-EW-A1P1                  Lung   \n",
       "TCGA-AR-A5QQ-01A         TCGA-AR-A5QQ                  Lung   \n",
       "TCGA-E2-A1LE-01A         TCGA-E2-A1LE                  Lung   \n",
       "TCGA-EW-A1P8-01A         TCGA-EW-A1P8                  Lung   \n",
       "TCGA-3C-AAAU-01A         TCGA-3C-AAAU                  Lung   \n",
       "TCGA-D8-A73W-01A         TCGA-D8-A73W                  Lung   \n",
       "TCGA-E2-A10B-01A         TCGA-E2-A10B                  Lung   \n",
       "TCGA-E9-A1NF-01A         TCGA-E9-A1NF                  Lung   \n",
       "TCGA-E9-A1NF-11A         TCGA-E9-A1NF                  Lung   \n",
       "TCGA-OL-A97C-01A         TCGA-OL-A97C                  Lung   \n",
       "TCGA-AO-A03U-01B         TCGA-AO-A03U                  Lung   \n",
       "TCGA-A2-A3XY-01A         TCGA-A2-A3XY                  Lung   \n",
       "\n",
       "                  sample_type.samples  \n",
       "sample_id                              \n",
       "TCGA-A2-A3XS-01A        Primary Tumor  \n",
       "TCGA-B6-A409-01A        Primary Tumor  \n",
       "TCGA-B6-A0I1-01A        Primary Tumor  \n",
       "TCGA-BH-A1EY-01A        Primary Tumor  \n",
       "TCGA-EW-A1P1-01A        Primary Tumor  \n",
       "TCGA-AR-A5QQ-01A        Primary Tumor  \n",
       "TCGA-E2-A1LE-01A        Primary Tumor  \n",
       "TCGA-EW-A1P8-01A        Primary Tumor  \n",
       "TCGA-3C-AAAU-01A        Primary Tumor  \n",
       "TCGA-D8-A73W-01A        Primary Tumor  \n",
       "TCGA-E2-A10B-01A        Primary Tumor  \n",
       "TCGA-E9-A1NF-01A        Primary Tumor  \n",
       "TCGA-E9-A1NF-11A  Solid Tissue Normal  \n",
       "TCGA-OL-A97C-01A        Primary Tumor  \n",
       "TCGA-AO-A03U-01B        Primary Tumor  \n",
       "TCGA-A2-A3XY-01A        Primary Tumor  \n",
       "\n",
       "[16 rows x 60487 columns]"
      ]
     },
     "execution_count": 280,
     "metadata": {},
     "output_type": "execute_result"
    }
   ],
   "source": [
    "data_BRCA_lung"
   ]
  },
  {
   "cell_type": "code",
   "execution_count": 35,
   "metadata": {},
   "outputs": [],
   "source": [
    "### Selecting genes related to transporters and enzymes"
   ]
  },
  {
   "cell_type": "code",
   "execution_count": 281,
   "metadata": {},
   "outputs": [],
   "source": [
    "col_trunc_list = [x[:15] for x in data_BRCA_lung.columns[:-4]]\n",
    "col_trunc_df = pd.DataFrame(col_trunc_list)\n",
    "col_trunc_df = pd.concat([col_trunc_df,pd.DataFrame(data_BRCA_lung.columns[:-4])],axis=1)\n",
    "col_trunc_df.columns = ['ensembl_gene_id','og_index']"
   ]
  },
  {
   "cell_type": "code",
   "execution_count": 282,
   "metadata": {},
   "outputs": [],
   "source": [
    "names_df = pd.read_csv('../ensembl_index.csv',index_col = 0)\n",
    "final_names = pd.merge(names_df,col_trunc_df)"
   ]
  },
  {
   "cell_type": "code",
   "execution_count": 283,
   "metadata": {},
   "outputs": [],
   "source": [
    "gene_list = final_names.og_index.tolist()"
   ]
  },
  {
   "cell_type": "code",
   "execution_count": 284,
   "metadata": {},
   "outputs": [],
   "source": [
    "feature_list = gene_list + ['sample_id', 'bcr_patient_barcode', 'new_tumor_event_site','sample_type.samples']"
   ]
  },
  {
   "cell_type": "code",
   "execution_count": 285,
   "metadata": {},
   "outputs": [
    {
     "data": {
      "text/plain": [
       "array(['ENSG00000099977.12', 'ENSG00000100197.19', 'ENSG00000104205.11',\n",
       "       'ENSG00000104237.6', 'ENSG00000112541.12', 'ENSG00000114316.11',\n",
       "       'ENSG00000114374.11', 'ENSG00000124713.5', 'ENSG00000128383.11',\n",
       "       'ENSG00000130035.5', 'ENSG00000133816.12', 'ENSG00000137843.10',\n",
       "       'ENSG00000160209.17', 'ENSG00000163156.10', 'ENSG00000172352.5',\n",
       "       'ENSG00000182415.9', 'ENSG00000223443.2', 'ENSG00000241370.4',\n",
       "       'ENSG00000257365.6'], dtype='<U20')"
      ]
     },
     "execution_count": 285,
     "metadata": {},
     "output_type": "execute_result"
    }
   ],
   "source": [
    "u,c = np.unique(feature_list,return_counts=True)\n",
    "u[c>1]"
   ]
  },
  {
   "cell_type": "code",
   "execution_count": 286,
   "metadata": {},
   "outputs": [],
   "source": [
    "data_BRCA_lung = data_BRCA_lung[feature_list]\n",
    "data_BRCA_lung = data_BRCA_lung.loc[:,~data_BRCA_lung.columns.duplicated()]"
   ]
  },
  {
   "cell_type": "code",
   "execution_count": 287,
   "metadata": {},
   "outputs": [],
   "source": [
    "data_BRCA_lung.drop('TCGA-E9-A1NF-11A',inplace=True)"
   ]
  },
  {
   "cell_type": "markdown",
   "metadata": {},
   "source": [
    "### Histogram"
   ]
  },
  {
   "cell_type": "code",
   "execution_count": 288,
   "metadata": {},
   "outputs": [],
   "source": [
    "X_df = data_BRCA_lung.drop(columns=['sample_id','bcr_patient_barcode','new_tumor_event_site',])\n",
    "X_tumor_df = X_df[X_df['sample_type.samples']==\"Primary Tumor\"]\n",
    "X_tumor_df = X_tumor_df.drop(columns = 'sample_type.samples')\n",
    "# scaler = StandardScaler()\n",
    "# scaler.fit_transform(X_tumor_df)\n",
    "# X_scaled = scaler.transform(X_tumor_df)\n",
    "# mean_vec = scaler.mean_\n",
    "# var_vec = scaler.var_"
   ]
  },
  {
   "cell_type": "code",
   "execution_count": 289,
   "metadata": {},
   "outputs": [],
   "source": [
    "mean_vec = X_tumor_df.mean()"
   ]
  },
  {
   "cell_type": "code",
   "execution_count": 290,
   "metadata": {},
   "outputs": [
    {
     "data": {
      "text/plain": [
       "Text(0.5, 0, 'Mean')"
      ]
     },
     "execution_count": 290,
     "metadata": {},
     "output_type": "execute_result"
    },
    {
     "data": {
      "image/png": "[encoded data removed]",
      "text/plain": [
       "<Figure size 432x288 with 1 Axes>"
      ]
     },
     "metadata": {
      "needs_background": "light"
     },
     "output_type": "display_data"
    }
   ],
   "source": [
    "plt.hist(mean_vec)\n",
    "\n",
    "plt.title('Histogram of mean of features')\n",
    "plt.ylabel('Counts')\n",
    "plt.xlabel('Mean')"
   ]
  },
  {
   "cell_type": "code",
   "execution_count": 272,
   "metadata": {},
   "outputs": [
    {
     "data": {
      "text/plain": [
       "Text(0.5, 0, 'Mean')"
      ]
     },
     "execution_count": 272,
     "metadata": {},
     "output_type": "execute_result"
    },
    {
     "data": {
      "image/png": "[encoded data removed]",
      "text/plain": [
       "<Figure size 432x288 with 1 Axes>"
      ]
     },
     "metadata": {
      "needs_background": "light"
     },
     "output_type": "display_data"
    }
   ],
   "source": [
    "hist, bin_edges = np.histogram(mean_vec,bins=100)\n",
    "plt.plot(bin_edges[1:],np.cumsum(hist))\n",
    "plt.title('Cumulative count of features vs mean of features')\n",
    "plt.ylabel('Cumulative Count of Features')\n",
    "plt.xlabel('Mean')"
   ]
  },
  {
   "cell_type": "markdown",
   "metadata": {},
   "source": [
    "## Standardize"
   ]
  },
  {
   "cell_type": "code",
   "execution_count": 239,
   "metadata": {},
   "outputs": [],
   "source": [
    "# X_df = data_BRCA_lung.drop(columns=['sample_id','bcr_patient_barcode','new_tumor_event_site',])\n",
    "# X_tumor_df = X_df[X_df['sample_type.samples']==\"Primary Tumor\"]\n",
    "# X_tumor_df = X_tumor_df.drop(columns = 'sample_type.samples')\n",
    "# scaler = StandardScaler()\n",
    "# scaler.fit_transform(X_tumor_df)\n",
    "# X_scaled = pd.DataFrame(scaler.transform(X_tumor_df))\n",
    "# X_scaled.columns = X_tumor_df.columns\n",
    "# X_scaled.index = X_tumor_df.index"
   ]
  },
  {
   "cell_type": "markdown",
   "metadata": {},
   "source": [
    "## Drop according to mean and variance of each feature (This is currently not working, skip this part"
   ]
  },
  {
   "cell_type": "code",
   "execution_count": 15,
   "metadata": {},
   "outputs": [
    {
     "data": {
      "text/plain": [
       "'\\nmean_vec = scaler.mean_\\nvar_vec = scaler.var_\\ncutoff_num = 6 # We want 1-cutoff_prob of the distribution to be above this number\\ncutoff_prob=.05\\nkeep_vec = []\\nzeros_vec = []\\nnan_vec = []\\nfor ii in range(len(mean_vec)):\\n    mean = mean_vec[ii]\\n    variance = var_vec[ii]\\n    distribution = norm(loc=mean,scale=variance)\\n    cum_prob = distribution.cdf(cutoff_num)\\n    if np.isnan(cum_prob):\\n        nan_vec.append(ii)\\n    if cum_prob >= cutoff_prob: # Drop when cutoff_prob\\n        keep_vec.append(ii)\\n    if (mean_vec[ii] == 0) or (var_vec[ii] == 0):\\n        zeros_vec.append(ii)\\n    else:\\n        pass\\n'"
      ]
     },
     "execution_count": 15,
     "metadata": {},
     "output_type": "execute_result"
    }
   ],
   "source": [
    "'''\n",
    "mean_vec = scaler.mean_\n",
    "var_vec = scaler.var_\n",
    "cutoff_num = 6 # We want 1-cutoff_prob of the distribution to be above this number\n",
    "cutoff_prob=.05\n",
    "keep_vec = []\n",
    "zeros_vec = []\n",
    "nan_vec = []\n",
    "for ii in range(len(mean_vec)):\n",
    "    mean = mean_vec[ii]\n",
    "    variance = var_vec[ii]\n",
    "    distribution = norm(loc=mean,scale=variance)\n",
    "    cum_prob = distribution.cdf(cutoff_num)\n",
    "    if np.isnan(cum_prob):\n",
    "        nan_vec.append(ii)\n",
    "    if cum_prob >= cutoff_prob: # Drop when cutoff_prob\n",
    "        keep_vec.append(ii)\n",
    "    if (mean_vec[ii] == 0) or (var_vec[ii] == 0):\n",
    "        zeros_vec.append(ii)\n",
    "    else:\n",
    "        pass\n",
    "'''"
   ]
  },
  {
   "cell_type": "markdown",
   "metadata": {},
   "source": [
    "# Drop according to mean (Drop if mean < 6, keep if mean >=6)"
   ]
  },
  {
   "cell_type": "code",
   "execution_count": 316,
   "metadata": {},
   "outputs": [],
   "source": [
    "X_filtered = X_tumor_df[X_tumor_df.columns[mean_vec>=2]]"
   ]
  },
  {
   "cell_type": "code",
   "execution_count": 318,
   "metadata": {},
   "outputs": [
    {
     "data": {
      "text/plain": [
       "(15, 2361)"
      ]
     },
     "execution_count": 318,
     "metadata": {},
     "output_type": "execute_result"
    }
   ],
   "source": [
    "X_filtered.shape"
   ]
  },
  {
   "cell_type": "code",
   "execution_count": 319,
   "metadata": {},
   "outputs": [],
   "source": [
    "breast_genes_c = [gene for gene in X_filtered.columns]\n",
    "breast_genes_c_trunc = [x[:15] for x in breast_genes_c]"
   ]
  },
  {
   "cell_type": "code",
   "execution_count": 320,
   "metadata": {},
   "outputs": [
    {
     "data": {
      "text/plain": [
       "(2361, 2361)"
      ]
     },
     "execution_count": 320,
     "metadata": {},
     "output_type": "execute_result"
    }
   ],
   "source": [
    "len(breast_genes_c_trunc), len(np.unique(breast_genes_c_trunc))"
   ]
  },
  {
   "cell_type": "code",
   "execution_count": 321,
   "metadata": {},
   "outputs": [],
   "source": [
    "BRCA_lung_trunc_df = X_filtered\n",
    "BRCA_lung_trunc_df.columns = breast_genes_c_trunc"
   ]
  },
  {
   "cell_type": "markdown",
   "metadata": {},
   "source": [
    "# Differential Gene Expression Analysis"
   ]
  },
  {
   "cell_type": "code",
   "execution_count": 322,
   "metadata": {},
   "outputs": [],
   "source": [
    "# Read in healthy origin site data (breast in this case)\n",
    "healthy_breast_df = pd.read_csv('../breast_ge_healthy.csv',index_col=0)\n",
    "healthy_breast_df = healthy_breast_df.set_index('sample').T"
   ]
  },
  {
   "cell_type": "code",
   "execution_count": 323,
   "metadata": {},
   "outputs": [],
   "source": [
    "breast_genes_h = [genes for genes in healthy_breast_df.columns]\n",
    "breast_genes_h_trunc = [x[:15] for x in breast_genes_h]"
   ]
  },
  {
   "cell_type": "code",
   "execution_count": 324,
   "metadata": {},
   "outputs": [
    {
     "data": {
      "text/plain": [
       "(60498, 60498)"
      ]
     },
     "execution_count": 324,
     "metadata": {},
     "output_type": "execute_result"
    }
   ],
   "source": [
    "len(breast_genes_h_trunc), len(np.unique(breast_genes_h_trunc))"
   ]
  },
  {
   "cell_type": "code",
   "execution_count": 325,
   "metadata": {},
   "outputs": [
    {
     "data": {
      "text/plain": [
       "2361"
      ]
     },
     "execution_count": 325,
     "metadata": {},
     "output_type": "execute_result"
    }
   ],
   "source": [
    "gene_int = set(breast_genes_c_trunc).intersection(set(breast_genes_h_trunc))\n",
    "len(gene_int)"
   ]
  },
  {
   "cell_type": "code",
   "execution_count": 326,
   "metadata": {},
   "outputs": [],
   "source": [
    "healthy_breast_trunc_df = healthy_breast_df\n",
    "healthy_breast_trunc_df.columns = breast_genes_h_trunc\n",
    "# healthy_breast_trunc_df = healthy_breast_trunc_df[breast_genes_c_trunc]"
   ]
  },
  {
   "cell_type": "code",
   "execution_count": 327,
   "metadata": {},
   "outputs": [],
   "source": [
    "# Loop through all genes for two-sample t-test\n",
    "gene_list = []\n",
    "mean_ge_list = []\n",
    "\n",
    "for gene in breast_genes_c_trunc:\n",
    "    t, p = ttest_ind(healthy_breast_trunc_df[gene], BRCA_lung_trunc_df[gene], equal_var=False)\n",
    "    h_mean = healthy_breast_trunc_df[gene].mean()\n",
    "    c_mean = BRCA_lung_trunc_df[gene].mean()\n",
    "    \n",
    "    \n",
    "    if p < 0.005 and c_mean > h_mean:\n",
    "        gene_list.append(gene)\n",
    "        mean_ge_list.append((c_mean, h_mean))"
   ]
  },
  {
   "cell_type": "code",
   "execution_count": 328,
   "metadata": {},
   "outputs": [
    {
     "data": {
      "text/plain": [
       "(356, 2361)"
      ]
     },
     "execution_count": 328,
     "metadata": {},
     "output_type": "execute_result"
    }
   ],
   "source": [
    "len(gene_list), len(breast_genes_c_trunc)"
   ]
  },
  {
   "cell_type": "code",
   "execution_count": 331,
   "metadata": {},
   "outputs": [],
   "source": [
    "# Keep subset of genes that are effectively upregulated\n",
    "BRCA_lung_subset_df = BRCA_lung_trunc_df[gene_list]"
   ]
  },
  {
   "cell_type": "code",
   "execution_count": 379,
   "metadata": {},
   "outputs": [],
   "source": [
    "# Setup dataset for clustering\n",
    "\n",
    "X = np.zeros((len(gene_list),BRCA_lung_subset_df.shape[0]))\n",
    "\n",
    "for i, gene in enumerate(gene_list):\n",
    "    X[i] = BRCA_lung_subset_df[gene]"
   ]
  },
  {
   "cell_type": "code",
   "execution_count": 396,
   "metadata": {},
   "outputs": [],
   "source": [
    "clustering = DBSCAN(eps=0.5, min_samples=5, metric='cosine').fit(X)"
   ]
  },
  {
   "cell_type": "code",
   "execution_count": 397,
   "metadata": {},
   "outputs": [
    {
     "data": {
      "text/plain": [
       "array([0, 0, 0, 0, 0, 0, 0, 0, 0, 0, 0, 0, 0, 0, 0, 0, 0, 0, 0, 0, 0, 0,\n",
       "       0, 0, 0, 0, 0, 0, 0, 0, 0, 0, 0, 0, 0, 0, 0, 0, 0, 0, 0, 0, 0, 0,\n",
       "       0, 0, 0, 0, 0, 0, 0, 0, 0, 0, 0, 0, 0, 0, 0, 0, 0, 0, 0, 0, 0, 0,\n",
       "       0, 0, 0, 0, 0, 0, 0, 0, 0, 0, 0, 0, 0, 0, 0, 0, 0, 0, 0, 0, 0, 0,\n",
       "       0, 0, 0, 0, 0, 0, 0, 0, 0, 0, 0, 0, 0, 0, 0, 0, 0, 0, 0, 0, 0, 0,\n",
       "       0, 0, 0, 0, 0, 0, 0, 0, 0, 0, 0, 0, 0, 0, 0, 0, 0, 0, 0, 0, 0, 0,\n",
       "       0, 0, 0, 0, 0, 0, 0, 0, 0, 0, 0, 0, 0, 0, 0, 0, 0, 0, 0, 0, 0, 0,\n",
       "       0, 0, 0, 0, 0, 0, 0, 0, 0, 0, 0, 0, 0, 0, 0, 0, 0, 0, 0, 0, 0, 0,\n",
       "       0, 0, 0, 0, 0, 0, 0, 0, 0, 0, 0, 0, 0, 0, 0, 0, 0, 0, 0, 0, 0, 0,\n",
       "       0, 0, 0, 0, 0, 0, 0, 0, 0, 0, 0, 0, 0, 0, 0, 0, 0, 0, 0, 0, 0, 0,\n",
       "       0, 0, 0, 0, 0, 0, 0, 0, 0, 0, 0, 0, 0, 0, 0, 0, 0, 0, 0, 0, 0, 0,\n",
       "       0, 0, 0, 0, 0, 0, 0, 0, 0, 0, 0, 0, 0, 0, 0, 0, 0, 0, 0, 0, 0, 0,\n",
       "       0, 0, 0, 0, 0, 0, 0, 0, 0, 0, 0, 0, 0, 0, 0, 0, 0, 0, 0, 0, 0, 0,\n",
       "       0, 0, 0, 0, 0, 0, 0, 0, 0, 0, 0, 0, 0, 0, 0, 0, 0, 0, 0, 0, 0, 0,\n",
       "       0, 0, 0, 0, 0, 0, 0, 0, 0, 0, 0, 0, 0, 0, 0, 0, 0, 0, 0, 0, 0, 0,\n",
       "       0, 0, 0, 0, 0, 0, 0, 0, 0, 0, 0, 0, 0, 0, 0, 0, 0, 0, 0, 0, 0, 0,\n",
       "       0, 0, 0, 0])"
      ]
     },
     "execution_count": 397,
     "metadata": {},
     "output_type": "execute_result"
    }
   ],
   "source": [
    "clustering.labels_"
   ]
  },
  {
   "cell_type": "code",
   "execution_count": null,
   "metadata": {},
   "outputs": [],
   "source": []
  }
 ],
 "metadata": {
  "kernelspec": {
   "display_name": "Python 3",
   "language": "python",
   "name": "python3"
  },
  "language_info": {
   "codemirror_mode": {
    "name": "ipython",
    "version": 3
   },
   "file_extension": ".py",
   "mimetype": "text/x-python",
   "name": "python",
   "nbconvert_exporter": "python",
   "pygments_lexer": "ipython3",
   "version": "3.6.9"
  }
 },
 "nbformat": 4,
 "nbformat_minor": 4
}
