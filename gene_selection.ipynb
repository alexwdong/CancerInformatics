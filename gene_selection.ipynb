{
 "cells": [
  {
   "cell_type": "code",
   "execution_count": 1,
   "metadata": {},
   "outputs": [],
   "source": [
    "import numpy as np\n",
    "import pandas as pd\n",
    "import re\n",
    "from scipy.stats import norm\n",
    "\n",
    "from matplotlib import pyplot as plt\n",
    "from data_util import create_dataset\n",
    "from sklearn.preprocessing import StandardScaler\n",
    "from scipy.stats import ttest_ind\n",
    "from sklearn.cluster import DBSCAN\n",
    "\n",
    "import math\n",
    "pd.options.display.max_rows = 100\n",
    "pd.set_option('display.max_rows', None)"
   ]
  },
  {
   "cell_type": "markdown",
   "metadata": {},
   "source": [
    "# Read in data"
   ]
  },
  {
   "cell_type": "markdown",
   "metadata": {},
   "source": [
    "###  Note that the loaded data has already been log_2(x+1) transformed from the raw values"
   ]
  },
  {
   "cell_type": "code",
   "execution_count": 2,
   "metadata": {},
   "outputs": [],
   "source": [
    "# Read in new data\n",
    "filepath_new = 'ClinicalFiles/mmc1-tony.xlsx'\n",
    "data_new = pd.read_excel(filepath_new,index_col=0)"
   ]
  },
  {
   "cell_type": "code",
   "execution_count": 3,
   "metadata": {},
   "outputs": [],
   "source": [
    "data_BRCA_lung = create_dataset(cancer_type = 'BRCA',\n",
    "                                new_tumor_event_site = 'Lung',\n",
    "                                data_new = data_new,\n",
    "                                filepath_ge = 'TCGAFiles/BRCA/TCGA-BRCA.htseq_fpkm.tsv',\n",
    "                                filepath_ph = 'TCGAFiles/BRCA/TCGA-BRCA.GDC_phenotype.tsv')"
   ]
  },
  {
   "cell_type": "code",
   "execution_count": 4,
   "metadata": {},
   "outputs": [
    {
     "data": {
      "text/html": [
       "<div>\n",
       "<style scoped>\n",
       "    .dataframe tbody tr th:only-of-type {\n",
       "        vertical-align: middle;\n",
       "    }\n",
       "\n",
       "    .dataframe tbody tr th {\n",
       "        vertical-align: top;\n",
       "    }\n",
       "\n",
       "    .dataframe thead th {\n",
       "        text-align: right;\n",
       "    }\n",
       "</style>\n",
       "<table border=\"1\" class=\"dataframe\">\n",
       "  <thead>\n",
       "    <tr style=\"text-align: right;\">\n",
       "      <th></th>\n",
       "      <th>ENSG00000242268.2</th>\n",
       "      <th>ENSG00000270112.3</th>\n",
       "      <th>ENSG00000167578.15</th>\n",
       "      <th>ENSG00000273842.1</th>\n",
       "      <th>ENSG00000078237.5</th>\n",
       "      <th>ENSG00000146083.10</th>\n",
       "      <th>ENSG00000225275.4</th>\n",
       "      <th>ENSG00000158486.12</th>\n",
       "      <th>ENSG00000198242.12</th>\n",
       "      <th>ENSG00000259883.1</th>\n",
       "      <th>...</th>\n",
       "      <th>ENSG00000273233.1</th>\n",
       "      <th>ENSG00000105063.17</th>\n",
       "      <th>ENSG00000231119.2</th>\n",
       "      <th>ENSG00000280861.1</th>\n",
       "      <th>ENSG00000123685.7</th>\n",
       "      <th>ENSG00000181518.3</th>\n",
       "      <th>sample_id</th>\n",
       "      <th>bcr_patient_barcode</th>\n",
       "      <th>new_tumor_event_site</th>\n",
       "      <th>sample_type.samples</th>\n",
       "    </tr>\n",
       "    <tr>\n",
       "      <th>sample_id</th>\n",
       "      <th></th>\n",
       "      <th></th>\n",
       "      <th></th>\n",
       "      <th></th>\n",
       "      <th></th>\n",
       "      <th></th>\n",
       "      <th></th>\n",
       "      <th></th>\n",
       "      <th></th>\n",
       "      <th></th>\n",
       "      <th></th>\n",
       "      <th></th>\n",
       "      <th></th>\n",
       "      <th></th>\n",
       "      <th></th>\n",
       "      <th></th>\n",
       "      <th></th>\n",
       "      <th></th>\n",
       "      <th></th>\n",
       "      <th></th>\n",
       "      <th></th>\n",
       "    </tr>\n",
       "  </thead>\n",
       "  <tbody>\n",
       "    <tr>\n",
       "      <th>TCGA-A2-A3XS-01A</th>\n",
       "      <td>0.000000</td>\n",
       "      <td>0.000000</td>\n",
       "      <td>2.188195</td>\n",
       "      <td>0.000000</td>\n",
       "      <td>1.748448</td>\n",
       "      <td>3.943407</td>\n",
       "      <td>0.000000</td>\n",
       "      <td>0.016324</td>\n",
       "      <td>7.308638</td>\n",
       "      <td>0.000000</td>\n",
       "      <td>...</td>\n",
       "      <td>0.195737</td>\n",
       "      <td>3.972232</td>\n",
       "      <td>0.349083</td>\n",
       "      <td>0.0</td>\n",
       "      <td>0.986316</td>\n",
       "      <td>0.0</td>\n",
       "      <td>TCGA-A2-A3XS-01A</td>\n",
       "      <td>TCGA-A2-A3XS</td>\n",
       "      <td>Lung</td>\n",
       "      <td>Primary Tumor</td>\n",
       "    </tr>\n",
       "    <tr>\n",
       "      <th>TCGA-B6-A409-01A</th>\n",
       "      <td>0.000000</td>\n",
       "      <td>0.000000</td>\n",
       "      <td>1.592924</td>\n",
       "      <td>0.000000</td>\n",
       "      <td>0.907229</td>\n",
       "      <td>3.270728</td>\n",
       "      <td>0.071389</td>\n",
       "      <td>0.157954</td>\n",
       "      <td>7.320173</td>\n",
       "      <td>0.078148</td>\n",
       "      <td>...</td>\n",
       "      <td>0.000000</td>\n",
       "      <td>3.448320</td>\n",
       "      <td>0.279186</td>\n",
       "      <td>0.0</td>\n",
       "      <td>1.320473</td>\n",
       "      <td>0.0</td>\n",
       "      <td>TCGA-B6-A409-01A</td>\n",
       "      <td>TCGA-B6-A409</td>\n",
       "      <td>Lung</td>\n",
       "      <td>Primary Tumor</td>\n",
       "    </tr>\n",
       "    <tr>\n",
       "      <th>TCGA-B6-A0I1-01A</th>\n",
       "      <td>0.000000</td>\n",
       "      <td>0.008025</td>\n",
       "      <td>1.566140</td>\n",
       "      <td>0.000000</td>\n",
       "      <td>2.080369</td>\n",
       "      <td>2.726910</td>\n",
       "      <td>0.000000</td>\n",
       "      <td>0.169888</td>\n",
       "      <td>8.075526</td>\n",
       "      <td>0.026461</td>\n",
       "      <td>...</td>\n",
       "      <td>0.047540</td>\n",
       "      <td>2.601373</td>\n",
       "      <td>1.057151</td>\n",
       "      <td>0.0</td>\n",
       "      <td>0.992014</td>\n",
       "      <td>0.0</td>\n",
       "      <td>TCGA-B6-A0I1-01A</td>\n",
       "      <td>TCGA-B6-A0I1</td>\n",
       "      <td>Lung</td>\n",
       "      <td>Primary Tumor</td>\n",
       "    </tr>\n",
       "    <tr>\n",
       "      <th>TCGA-BH-A1EY-01A</th>\n",
       "      <td>0.000000</td>\n",
       "      <td>0.006257</td>\n",
       "      <td>2.287106</td>\n",
       "      <td>0.000000</td>\n",
       "      <td>2.294679</td>\n",
       "      <td>3.938652</td>\n",
       "      <td>0.000000</td>\n",
       "      <td>0.941261</td>\n",
       "      <td>6.955325</td>\n",
       "      <td>0.080917</td>\n",
       "      <td>...</td>\n",
       "      <td>0.000000</td>\n",
       "      <td>4.374549</td>\n",
       "      <td>0.331327</td>\n",
       "      <td>0.0</td>\n",
       "      <td>0.600684</td>\n",
       "      <td>0.0</td>\n",
       "      <td>TCGA-BH-A1EY-01A</td>\n",
       "      <td>TCGA-BH-A1EY</td>\n",
       "      <td>Lung</td>\n",
       "      <td>Primary Tumor</td>\n",
       "    </tr>\n",
       "    <tr>\n",
       "      <th>TCGA-EW-A1P1-01A</th>\n",
       "      <td>0.091184</td>\n",
       "      <td>0.000000</td>\n",
       "      <td>1.680844</td>\n",
       "      <td>0.000000</td>\n",
       "      <td>2.855336</td>\n",
       "      <td>3.267594</td>\n",
       "      <td>0.000000</td>\n",
       "      <td>0.011125</td>\n",
       "      <td>7.184775</td>\n",
       "      <td>0.239088</td>\n",
       "      <td>...</td>\n",
       "      <td>0.000000</td>\n",
       "      <td>3.762484</td>\n",
       "      <td>0.222120</td>\n",
       "      <td>0.0</td>\n",
       "      <td>1.516585</td>\n",
       "      <td>0.0</td>\n",
       "      <td>TCGA-EW-A1P1-01A</td>\n",
       "      <td>TCGA-EW-A1P1</td>\n",
       "      <td>Lung</td>\n",
       "      <td>Primary Tumor</td>\n",
       "    </tr>\n",
       "    <tr>\n",
       "      <th>TCGA-AR-A5QQ-01A</th>\n",
       "      <td>0.000000</td>\n",
       "      <td>0.000000</td>\n",
       "      <td>2.050921</td>\n",
       "      <td>0.000000</td>\n",
       "      <td>2.513511</td>\n",
       "      <td>3.040755</td>\n",
       "      <td>0.000000</td>\n",
       "      <td>0.108066</td>\n",
       "      <td>7.331879</td>\n",
       "      <td>0.253488</td>\n",
       "      <td>...</td>\n",
       "      <td>0.000000</td>\n",
       "      <td>3.947990</td>\n",
       "      <td>0.097843</td>\n",
       "      <td>0.0</td>\n",
       "      <td>1.293070</td>\n",
       "      <td>0.0</td>\n",
       "      <td>TCGA-AR-A5QQ-01A</td>\n",
       "      <td>TCGA-AR-A5QQ</td>\n",
       "      <td>Lung</td>\n",
       "      <td>Primary Tumor</td>\n",
       "    </tr>\n",
       "    <tr>\n",
       "      <th>TCGA-E2-A1LE-01A</th>\n",
       "      <td>0.072704</td>\n",
       "      <td>0.000000</td>\n",
       "      <td>2.326930</td>\n",
       "      <td>0.000000</td>\n",
       "      <td>2.295381</td>\n",
       "      <td>3.601933</td>\n",
       "      <td>0.000000</td>\n",
       "      <td>0.005299</td>\n",
       "      <td>8.107163</td>\n",
       "      <td>0.162199</td>\n",
       "      <td>...</td>\n",
       "      <td>0.000000</td>\n",
       "      <td>3.741809</td>\n",
       "      <td>0.071371</td>\n",
       "      <td>0.0</td>\n",
       "      <td>0.915310</td>\n",
       "      <td>0.0</td>\n",
       "      <td>TCGA-E2-A1LE-01A</td>\n",
       "      <td>TCGA-E2-A1LE</td>\n",
       "      <td>Lung</td>\n",
       "      <td>Primary Tumor</td>\n",
       "    </tr>\n",
       "    <tr>\n",
       "      <th>TCGA-EW-A1P8-01A</th>\n",
       "      <td>0.000000</td>\n",
       "      <td>0.000000</td>\n",
       "      <td>1.749768</td>\n",
       "      <td>0.000000</td>\n",
       "      <td>3.565526</td>\n",
       "      <td>3.109890</td>\n",
       "      <td>0.000000</td>\n",
       "      <td>0.006606</td>\n",
       "      <td>6.917720</td>\n",
       "      <td>0.031766</td>\n",
       "      <td>...</td>\n",
       "      <td>0.056990</td>\n",
       "      <td>5.003280</td>\n",
       "      <td>0.318117</td>\n",
       "      <td>0.0</td>\n",
       "      <td>0.620852</td>\n",
       "      <td>0.0</td>\n",
       "      <td>TCGA-EW-A1P8-01A</td>\n",
       "      <td>TCGA-EW-A1P8</td>\n",
       "      <td>Lung</td>\n",
       "      <td>Primary Tumor</td>\n",
       "    </tr>\n",
       "    <tr>\n",
       "      <th>TCGA-3C-AAAU-01A</th>\n",
       "      <td>0.000000</td>\n",
       "      <td>0.000000</td>\n",
       "      <td>2.225387</td>\n",
       "      <td>0.000000</td>\n",
       "      <td>1.498832</td>\n",
       "      <td>3.771037</td>\n",
       "      <td>0.000000</td>\n",
       "      <td>0.004982</td>\n",
       "      <td>7.086283</td>\n",
       "      <td>0.031925</td>\n",
       "      <td>...</td>\n",
       "      <td>0.057271</td>\n",
       "      <td>4.464153</td>\n",
       "      <td>0.308488</td>\n",
       "      <td>0.0</td>\n",
       "      <td>0.326940</td>\n",
       "      <td>0.0</td>\n",
       "      <td>TCGA-3C-AAAU-01A</td>\n",
       "      <td>TCGA-3C-AAAU</td>\n",
       "      <td>Lung</td>\n",
       "      <td>Primary Tumor</td>\n",
       "    </tr>\n",
       "    <tr>\n",
       "      <th>TCGA-D8-A73W-01A</th>\n",
       "      <td>0.000000</td>\n",
       "      <td>0.000000</td>\n",
       "      <td>2.046030</td>\n",
       "      <td>0.000000</td>\n",
       "      <td>2.205582</td>\n",
       "      <td>3.713529</td>\n",
       "      <td>0.000000</td>\n",
       "      <td>0.009755</td>\n",
       "      <td>6.856483</td>\n",
       "      <td>0.211597</td>\n",
       "      <td>...</td>\n",
       "      <td>0.131327</td>\n",
       "      <td>4.285047</td>\n",
       "      <td>0.331231</td>\n",
       "      <td>0.0</td>\n",
       "      <td>0.716741</td>\n",
       "      <td>0.0</td>\n",
       "      <td>TCGA-D8-A73W-01A</td>\n",
       "      <td>TCGA-D8-A73W</td>\n",
       "      <td>Lung</td>\n",
       "      <td>Primary Tumor</td>\n",
       "    </tr>\n",
       "    <tr>\n",
       "      <th>TCGA-E2-A10B-01A</th>\n",
       "      <td>0.000000</td>\n",
       "      <td>0.007769</td>\n",
       "      <td>2.036247</td>\n",
       "      <td>0.278014</td>\n",
       "      <td>2.720995</td>\n",
       "      <td>3.733452</td>\n",
       "      <td>0.000000</td>\n",
       "      <td>0.121312</td>\n",
       "      <td>6.377915</td>\n",
       "      <td>0.123780</td>\n",
       "      <td>...</td>\n",
       "      <td>0.090657</td>\n",
       "      <td>4.242380</td>\n",
       "      <td>0.409648</td>\n",
       "      <td>0.0</td>\n",
       "      <td>0.406946</td>\n",
       "      <td>0.0</td>\n",
       "      <td>TCGA-E2-A10B-01A</td>\n",
       "      <td>TCGA-E2-A10B</td>\n",
       "      <td>Lung</td>\n",
       "      <td>Primary Tumor</td>\n",
       "    </tr>\n",
       "    <tr>\n",
       "      <th>TCGA-E9-A1NF-01A</th>\n",
       "      <td>0.000000</td>\n",
       "      <td>0.000000</td>\n",
       "      <td>1.878246</td>\n",
       "      <td>0.000000</td>\n",
       "      <td>2.123492</td>\n",
       "      <td>3.246663</td>\n",
       "      <td>0.111964</td>\n",
       "      <td>0.008752</td>\n",
       "      <td>6.948231</td>\n",
       "      <td>0.161004</td>\n",
       "      <td>...</td>\n",
       "      <td>0.000000</td>\n",
       "      <td>3.234838</td>\n",
       "      <td>0.104980</td>\n",
       "      <td>0.0</td>\n",
       "      <td>0.986530</td>\n",
       "      <td>0.0</td>\n",
       "      <td>TCGA-E9-A1NF-01A</td>\n",
       "      <td>TCGA-E9-A1NF</td>\n",
       "      <td>Lung</td>\n",
       "      <td>Primary Tumor</td>\n",
       "    </tr>\n",
       "    <tr>\n",
       "      <th>TCGA-E9-A1NF-11A</th>\n",
       "      <td>0.669685</td>\n",
       "      <td>0.000000</td>\n",
       "      <td>1.501011</td>\n",
       "      <td>0.000000</td>\n",
       "      <td>2.095262</td>\n",
       "      <td>2.910268</td>\n",
       "      <td>0.000000</td>\n",
       "      <td>0.032719</td>\n",
       "      <td>6.292874</td>\n",
       "      <td>0.455125</td>\n",
       "      <td>...</td>\n",
       "      <td>0.000000</td>\n",
       "      <td>3.492087</td>\n",
       "      <td>0.102685</td>\n",
       "      <td>0.0</td>\n",
       "      <td>1.527693</td>\n",
       "      <td>0.0</td>\n",
       "      <td>TCGA-E9-A1NF-11A</td>\n",
       "      <td>TCGA-E9-A1NF</td>\n",
       "      <td>Lung</td>\n",
       "      <td>Solid Tissue Normal</td>\n",
       "    </tr>\n",
       "    <tr>\n",
       "      <th>TCGA-OL-A97C-01A</th>\n",
       "      <td>0.059101</td>\n",
       "      <td>0.000000</td>\n",
       "      <td>1.623569</td>\n",
       "      <td>0.000000</td>\n",
       "      <td>2.033401</td>\n",
       "      <td>3.599375</td>\n",
       "      <td>0.000000</td>\n",
       "      <td>0.019904</td>\n",
       "      <td>7.337234</td>\n",
       "      <td>0.206683</td>\n",
       "      <td>...</td>\n",
       "      <td>0.097198</td>\n",
       "      <td>4.130954</td>\n",
       "      <td>0.239439</td>\n",
       "      <td>0.0</td>\n",
       "      <td>1.987567</td>\n",
       "      <td>0.0</td>\n",
       "      <td>TCGA-OL-A97C-01A</td>\n",
       "      <td>TCGA-OL-A97C</td>\n",
       "      <td>Lung</td>\n",
       "      <td>Primary Tumor</td>\n",
       "    </tr>\n",
       "    <tr>\n",
       "      <th>TCGA-AO-A03U-01B</th>\n",
       "      <td>0.024754</td>\n",
       "      <td>0.003460</td>\n",
       "      <td>1.742857</td>\n",
       "      <td>0.000000</td>\n",
       "      <td>2.645131</td>\n",
       "      <td>3.035777</td>\n",
       "      <td>0.000000</td>\n",
       "      <td>0.009449</td>\n",
       "      <td>6.873505</td>\n",
       "      <td>0.152583</td>\n",
       "      <td>...</td>\n",
       "      <td>0.041023</td>\n",
       "      <td>3.850025</td>\n",
       "      <td>0.217870</td>\n",
       "      <td>0.0</td>\n",
       "      <td>1.262718</td>\n",
       "      <td>0.0</td>\n",
       "      <td>TCGA-AO-A03U-01B</td>\n",
       "      <td>TCGA-AO-A03U</td>\n",
       "      <td>Lung</td>\n",
       "      <td>Primary Tumor</td>\n",
       "    </tr>\n",
       "    <tr>\n",
       "      <th>TCGA-A2-A3XY-01A</th>\n",
       "      <td>0.049175</td>\n",
       "      <td>0.003466</td>\n",
       "      <td>2.598986</td>\n",
       "      <td>0.000000</td>\n",
       "      <td>2.675118</td>\n",
       "      <td>3.819671</td>\n",
       "      <td>0.000000</td>\n",
       "      <td>0.023547</td>\n",
       "      <td>6.844789</td>\n",
       "      <td>0.152837</td>\n",
       "      <td>...</td>\n",
       "      <td>0.194680</td>\n",
       "      <td>4.264062</td>\n",
       "      <td>0.113235</td>\n",
       "      <td>0.0</td>\n",
       "      <td>1.351431</td>\n",
       "      <td>0.0</td>\n",
       "      <td>TCGA-A2-A3XY-01A</td>\n",
       "      <td>TCGA-A2-A3XY</td>\n",
       "      <td>Lung</td>\n",
       "      <td>Primary Tumor</td>\n",
       "    </tr>\n",
       "  </tbody>\n",
       "</table>\n",
       "<p>16 rows × 60487 columns</p>\n",
       "</div>"
      ],
      "text/plain": [
       "                  ENSG00000242268.2  ENSG00000270112.3  ENSG00000167578.15  \\\n",
       "sample_id                                                                    \n",
       "TCGA-A2-A3XS-01A           0.000000           0.000000            2.188195   \n",
       "TCGA-B6-A409-01A           0.000000           0.000000            1.592924   \n",
       "TCGA-B6-A0I1-01A           0.000000           0.008025            1.566140   \n",
       "TCGA-BH-A1EY-01A           0.000000           0.006257            2.287106   \n",
       "TCGA-EW-A1P1-01A           0.091184           0.000000            1.680844   \n",
       "TCGA-AR-A5QQ-01A           0.000000           0.000000            2.050921   \n",
       "TCGA-E2-A1LE-01A           0.072704           0.000000            2.326930   \n",
       "TCGA-EW-A1P8-01A           0.000000           0.000000            1.749768   \n",
       "TCGA-3C-AAAU-01A           0.000000           0.000000            2.225387   \n",
       "TCGA-D8-A73W-01A           0.000000           0.000000            2.046030   \n",
       "TCGA-E2-A10B-01A           0.000000           0.007769            2.036247   \n",
       "TCGA-E9-A1NF-01A           0.000000           0.000000            1.878246   \n",
       "TCGA-E9-A1NF-11A           0.669685           0.000000            1.501011   \n",
       "TCGA-OL-A97C-01A           0.059101           0.000000            1.623569   \n",
       "TCGA-AO-A03U-01B           0.024754           0.003460            1.742857   \n",
       "TCGA-A2-A3XY-01A           0.049175           0.003466            2.598986   \n",
       "\n",
       "                  ENSG00000273842.1  ENSG00000078237.5  ENSG00000146083.10  \\\n",
       "sample_id                                                                    \n",
       "TCGA-A2-A3XS-01A           0.000000           1.748448            3.943407   \n",
       "TCGA-B6-A409-01A           0.000000           0.907229            3.270728   \n",
       "TCGA-B6-A0I1-01A           0.000000           2.080369            2.726910   \n",
       "TCGA-BH-A1EY-01A           0.000000           2.294679            3.938652   \n",
       "TCGA-EW-A1P1-01A           0.000000           2.855336            3.267594   \n",
       "TCGA-AR-A5QQ-01A           0.000000           2.513511            3.040755   \n",
       "TCGA-E2-A1LE-01A           0.000000           2.295381            3.601933   \n",
       "TCGA-EW-A1P8-01A           0.000000           3.565526            3.109890   \n",
       "TCGA-3C-AAAU-01A           0.000000           1.498832            3.771037   \n",
       "TCGA-D8-A73W-01A           0.000000           2.205582            3.713529   \n",
       "TCGA-E2-A10B-01A           0.278014           2.720995            3.733452   \n",
       "TCGA-E9-A1NF-01A           0.000000           2.123492            3.246663   \n",
       "TCGA-E9-A1NF-11A           0.000000           2.095262            2.910268   \n",
       "TCGA-OL-A97C-01A           0.000000           2.033401            3.599375   \n",
       "TCGA-AO-A03U-01B           0.000000           2.645131            3.035777   \n",
       "TCGA-A2-A3XY-01A           0.000000           2.675118            3.819671   \n",
       "\n",
       "                  ENSG00000225275.4  ENSG00000158486.12  ENSG00000198242.12  \\\n",
       "sample_id                                                                     \n",
       "TCGA-A2-A3XS-01A           0.000000            0.016324            7.308638   \n",
       "TCGA-B6-A409-01A           0.071389            0.157954            7.320173   \n",
       "TCGA-B6-A0I1-01A           0.000000            0.169888            8.075526   \n",
       "TCGA-BH-A1EY-01A           0.000000            0.941261            6.955325   \n",
       "TCGA-EW-A1P1-01A           0.000000            0.011125            7.184775   \n",
       "TCGA-AR-A5QQ-01A           0.000000            0.108066            7.331879   \n",
       "TCGA-E2-A1LE-01A           0.000000            0.005299            8.107163   \n",
       "TCGA-EW-A1P8-01A           0.000000            0.006606            6.917720   \n",
       "TCGA-3C-AAAU-01A           0.000000            0.004982            7.086283   \n",
       "TCGA-D8-A73W-01A           0.000000            0.009755            6.856483   \n",
       "TCGA-E2-A10B-01A           0.000000            0.121312            6.377915   \n",
       "TCGA-E9-A1NF-01A           0.111964            0.008752            6.948231   \n",
       "TCGA-E9-A1NF-11A           0.000000            0.032719            6.292874   \n",
       "TCGA-OL-A97C-01A           0.000000            0.019904            7.337234   \n",
       "TCGA-AO-A03U-01B           0.000000            0.009449            6.873505   \n",
       "TCGA-A2-A3XY-01A           0.000000            0.023547            6.844789   \n",
       "\n",
       "                  ENSG00000259883.1  ...  ENSG00000273233.1  \\\n",
       "sample_id                            ...                      \n",
       "TCGA-A2-A3XS-01A           0.000000  ...           0.195737   \n",
       "TCGA-B6-A409-01A           0.078148  ...           0.000000   \n",
       "TCGA-B6-A0I1-01A           0.026461  ...           0.047540   \n",
       "TCGA-BH-A1EY-01A           0.080917  ...           0.000000   \n",
       "TCGA-EW-A1P1-01A           0.239088  ...           0.000000   \n",
       "TCGA-AR-A5QQ-01A           0.253488  ...           0.000000   \n",
       "TCGA-E2-A1LE-01A           0.162199  ...           0.000000   \n",
       "TCGA-EW-A1P8-01A           0.031766  ...           0.056990   \n",
       "TCGA-3C-AAAU-01A           0.031925  ...           0.057271   \n",
       "TCGA-D8-A73W-01A           0.211597  ...           0.131327   \n",
       "TCGA-E2-A10B-01A           0.123780  ...           0.090657   \n",
       "TCGA-E9-A1NF-01A           0.161004  ...           0.000000   \n",
       "TCGA-E9-A1NF-11A           0.455125  ...           0.000000   \n",
       "TCGA-OL-A97C-01A           0.206683  ...           0.097198   \n",
       "TCGA-AO-A03U-01B           0.152583  ...           0.041023   \n",
       "TCGA-A2-A3XY-01A           0.152837  ...           0.194680   \n",
       "\n",
       "                  ENSG00000105063.17  ENSG00000231119.2  ENSG00000280861.1  \\\n",
       "sample_id                                                                    \n",
       "TCGA-A2-A3XS-01A            3.972232           0.349083                0.0   \n",
       "TCGA-B6-A409-01A            3.448320           0.279186                0.0   \n",
       "TCGA-B6-A0I1-01A            2.601373           1.057151                0.0   \n",
       "TCGA-BH-A1EY-01A            4.374549           0.331327                0.0   \n",
       "TCGA-EW-A1P1-01A            3.762484           0.222120                0.0   \n",
       "TCGA-AR-A5QQ-01A            3.947990           0.097843                0.0   \n",
       "TCGA-E2-A1LE-01A            3.741809           0.071371                0.0   \n",
       "TCGA-EW-A1P8-01A            5.003280           0.318117                0.0   \n",
       "TCGA-3C-AAAU-01A            4.464153           0.308488                0.0   \n",
       "TCGA-D8-A73W-01A            4.285047           0.331231                0.0   \n",
       "TCGA-E2-A10B-01A            4.242380           0.409648                0.0   \n",
       "TCGA-E9-A1NF-01A            3.234838           0.104980                0.0   \n",
       "TCGA-E9-A1NF-11A            3.492087           0.102685                0.0   \n",
       "TCGA-OL-A97C-01A            4.130954           0.239439                0.0   \n",
       "TCGA-AO-A03U-01B            3.850025           0.217870                0.0   \n",
       "TCGA-A2-A3XY-01A            4.264062           0.113235                0.0   \n",
       "\n",
       "                  ENSG00000123685.7  ENSG00000181518.3         sample_id  \\\n",
       "sample_id                                                                  \n",
       "TCGA-A2-A3XS-01A           0.986316                0.0  TCGA-A2-A3XS-01A   \n",
       "TCGA-B6-A409-01A           1.320473                0.0  TCGA-B6-A409-01A   \n",
       "TCGA-B6-A0I1-01A           0.992014                0.0  TCGA-B6-A0I1-01A   \n",
       "TCGA-BH-A1EY-01A           0.600684                0.0  TCGA-BH-A1EY-01A   \n",
       "TCGA-EW-A1P1-01A           1.516585                0.0  TCGA-EW-A1P1-01A   \n",
       "TCGA-AR-A5QQ-01A           1.293070                0.0  TCGA-AR-A5QQ-01A   \n",
       "TCGA-E2-A1LE-01A           0.915310                0.0  TCGA-E2-A1LE-01A   \n",
       "TCGA-EW-A1P8-01A           0.620852                0.0  TCGA-EW-A1P8-01A   \n",
       "TCGA-3C-AAAU-01A           0.326940                0.0  TCGA-3C-AAAU-01A   \n",
       "TCGA-D8-A73W-01A           0.716741                0.0  TCGA-D8-A73W-01A   \n",
       "TCGA-E2-A10B-01A           0.406946                0.0  TCGA-E2-A10B-01A   \n",
       "TCGA-E9-A1NF-01A           0.986530                0.0  TCGA-E9-A1NF-01A   \n",
       "TCGA-E9-A1NF-11A           1.527693                0.0  TCGA-E9-A1NF-11A   \n",
       "TCGA-OL-A97C-01A           1.987567                0.0  TCGA-OL-A97C-01A   \n",
       "TCGA-AO-A03U-01B           1.262718                0.0  TCGA-AO-A03U-01B   \n",
       "TCGA-A2-A3XY-01A           1.351431                0.0  TCGA-A2-A3XY-01A   \n",
       "\n",
       "                  bcr_patient_barcode  new_tumor_event_site  \\\n",
       "sample_id                                                     \n",
       "TCGA-A2-A3XS-01A         TCGA-A2-A3XS                  Lung   \n",
       "TCGA-B6-A409-01A         TCGA-B6-A409                  Lung   \n",
       "TCGA-B6-A0I1-01A         TCGA-B6-A0I1                  Lung   \n",
       "TCGA-BH-A1EY-01A         TCGA-BH-A1EY                  Lung   \n",
       "TCGA-EW-A1P1-01A         TCGA-EW-A1P1                  Lung   \n",
       "TCGA-AR-A5QQ-01A         TCGA-AR-A5QQ                  Lung   \n",
       "TCGA-E2-A1LE-01A         TCGA-E2-A1LE                  Lung   \n",
       "TCGA-EW-A1P8-01A         TCGA-EW-A1P8                  Lung   \n",
       "TCGA-3C-AAAU-01A         TCGA-3C-AAAU                  Lung   \n",
       "TCGA-D8-A73W-01A         TCGA-D8-A73W                  Lung   \n",
       "TCGA-E2-A10B-01A         TCGA-E2-A10B                  Lung   \n",
       "TCGA-E9-A1NF-01A         TCGA-E9-A1NF                  Lung   \n",
       "TCGA-E9-A1NF-11A         TCGA-E9-A1NF                  Lung   \n",
       "TCGA-OL-A97C-01A         TCGA-OL-A97C                  Lung   \n",
       "TCGA-AO-A03U-01B         TCGA-AO-A03U                  Lung   \n",
       "TCGA-A2-A3XY-01A         TCGA-A2-A3XY                  Lung   \n",
       "\n",
       "                  sample_type.samples  \n",
       "sample_id                              \n",
       "TCGA-A2-A3XS-01A        Primary Tumor  \n",
       "TCGA-B6-A409-01A        Primary Tumor  \n",
       "TCGA-B6-A0I1-01A        Primary Tumor  \n",
       "TCGA-BH-A1EY-01A        Primary Tumor  \n",
       "TCGA-EW-A1P1-01A        Primary Tumor  \n",
       "TCGA-AR-A5QQ-01A        Primary Tumor  \n",
       "TCGA-E2-A1LE-01A        Primary Tumor  \n",
       "TCGA-EW-A1P8-01A        Primary Tumor  \n",
       "TCGA-3C-AAAU-01A        Primary Tumor  \n",
       "TCGA-D8-A73W-01A        Primary Tumor  \n",
       "TCGA-E2-A10B-01A        Primary Tumor  \n",
       "TCGA-E9-A1NF-01A        Primary Tumor  \n",
       "TCGA-E9-A1NF-11A  Solid Tissue Normal  \n",
       "TCGA-OL-A97C-01A        Primary Tumor  \n",
       "TCGA-AO-A03U-01B        Primary Tumor  \n",
       "TCGA-A2-A3XY-01A        Primary Tumor  \n",
       "\n",
       "[16 rows x 60487 columns]"
      ]
     },
     "execution_count": 4,
     "metadata": {},
     "output_type": "execute_result"
    }
   ],
   "source": [
    "data_BRCA_lung"
   ]
  },
  {
   "cell_type": "code",
   "execution_count": 5,
   "metadata": {},
   "outputs": [],
   "source": [
    "### Selecting genes related to transporters and enzymes"
   ]
  },
  {
   "cell_type": "code",
   "execution_count": 6,
   "metadata": {},
   "outputs": [],
   "source": [
    "col_trunc_list = [x[:15] for x in data_BRCA_lung.columns[:-4]]\n",
    "col_trunc_df = pd.DataFrame(col_trunc_list)\n",
    "col_trunc_df = pd.concat([col_trunc_df,pd.DataFrame(data_BRCA_lung.columns[:-4])],axis=1)\n",
    "col_trunc_df.columns = ['ensembl_gene_id','og_index']"
   ]
  },
  {
   "cell_type": "code",
   "execution_count": 7,
   "metadata": {},
   "outputs": [],
   "source": [
    "names_df = pd.read_csv('ensembl_index.csv',index_col = 0)\n",
    "final_names = pd.merge(names_df,col_trunc_df)"
   ]
  },
  {
   "cell_type": "code",
   "execution_count": 8,
   "metadata": {},
   "outputs": [],
   "source": [
    "gene_list = final_names.og_index.tolist()"
   ]
  },
  {
   "cell_type": "code",
   "execution_count": 9,
   "metadata": {},
   "outputs": [],
   "source": [
    "feature_list = gene_list + ['sample_id', 'bcr_patient_barcode', 'new_tumor_event_site','sample_type.samples']"
   ]
  },
  {
   "cell_type": "code",
   "execution_count": 10,
   "metadata": {},
   "outputs": [
    {
     "data": {
      "text/plain": [
       "array(['ENSG00000099977.12', 'ENSG00000100197.19', 'ENSG00000104205.11',\n",
       "       'ENSG00000104237.6', 'ENSG00000112541.12', 'ENSG00000114316.11',\n",
       "       'ENSG00000114374.11', 'ENSG00000124713.5', 'ENSG00000128383.11',\n",
       "       'ENSG00000130035.5', 'ENSG00000133816.12', 'ENSG00000137843.10',\n",
       "       'ENSG00000160209.17', 'ENSG00000163156.10', 'ENSG00000172352.5',\n",
       "       'ENSG00000182415.9', 'ENSG00000223443.2', 'ENSG00000241370.4',\n",
       "       'ENSG00000257365.6'], dtype='<U20')"
      ]
     },
     "execution_count": 10,
     "metadata": {},
     "output_type": "execute_result"
    }
   ],
   "source": [
    "u,c = np.unique(feature_list,return_counts=True)\n",
    "u[c>1]"
   ]
  },
  {
   "cell_type": "code",
   "execution_count": 11,
   "metadata": {},
   "outputs": [],
   "source": [
    "data_BRCA_lung = data_BRCA_lung[feature_list]\n",
    "data_BRCA_lung = data_BRCA_lung.loc[:,~data_BRCA_lung.columns.duplicated()]"
   ]
  },
  {
   "cell_type": "code",
   "execution_count": 12,
   "metadata": {},
   "outputs": [],
   "source": [
    "data_BRCA_lung.drop('TCGA-E9-A1NF-11A',inplace=True)"
   ]
  },
  {
   "cell_type": "markdown",
   "metadata": {},
   "source": [
    "### Histogram"
   ]
  },
  {
   "cell_type": "code",
   "execution_count": 13,
   "metadata": {},
   "outputs": [],
   "source": [
    "X_df = data_BRCA_lung.drop(columns=['sample_id','bcr_patient_barcode','new_tumor_event_site',])\n",
    "X_tumor_df = X_df[X_df['sample_type.samples']==\"Primary Tumor\"]\n",
    "X_tumor_df = X_tumor_df.drop(columns = 'sample_type.samples')\n",
    "# scaler = StandardScaler()\n",
    "# scaler.fit_transform(X_tumor_df)\n",
    "# X_scaled = scaler.transform(X_tumor_df)\n",
    "# mean_vec = scaler.mean_\n",
    "# var_vec = scaler.var_"
   ]
  },
  {
   "cell_type": "code",
   "execution_count": 14,
   "metadata": {},
   "outputs": [],
   "source": [
    "mean_vec = X_tumor_df.mean()"
   ]
  },
  {
   "cell_type": "code",
   "execution_count": 15,
   "metadata": {},
   "outputs": [
    {
     "data": {
      "text/plain": [
       "Text(0.5, 0, 'Mean')"
      ]
     },
     "execution_count": 15,
     "metadata": {},
     "output_type": "execute_result"
    },
    {
     "data": {
      "image/png": "[encoded data removed]",
      "text/plain": [
       "<Figure size 432x288 with 1 Axes>"
      ]
     },
     "metadata": {
      "needs_background": "light"
     },
     "output_type": "display_data"
    }
   ],
   "source": [
    "plt.hist(mean_vec)\n",
    "\n",
    "plt.title('Histogram of mean of features')\n",
    "plt.ylabel('Counts')\n",
    "plt.xlabel('Mean')"
   ]
  },
  {
   "cell_type": "code",
   "execution_count": 16,
   "metadata": {},
   "outputs": [
    {
     "data": {
      "text/plain": [
       "Text(0.5, 0, 'Mean')"
      ]
     },
     "execution_count": 16,
     "metadata": {},
     "output_type": "execute_result"
    },
    {
     "data": {
      "image/png": "[encoded data removed]",
      "text/plain": [
       "<Figure size 432x288 with 1 Axes>"
      ]
     },
     "metadata": {
      "needs_background": "light"
     },
     "output_type": "display_data"
    }
   ],
   "source": [
    "hist, bin_edges = np.histogram(mean_vec,bins=100)\n",
    "plt.plot(bin_edges[1:],np.cumsum(hist))\n",
    "plt.title('Cumulative count of features vs mean of features')\n",
    "plt.ylabel('Cumulative Count of Features')\n",
    "plt.xlabel('Mean')"
   ]
  },
  {
   "cell_type": "markdown",
   "metadata": {},
   "source": [
    "## Standardize"
   ]
  },
  {
   "cell_type": "code",
   "execution_count": 17,
   "metadata": {},
   "outputs": [],
   "source": [
    "# X_df = data_BRCA_lung.drop(columns=['sample_id','bcr_patient_barcode','new_tumor_event_site',])\n",
    "# X_tumor_df = X_df[X_df['sample_type.samples']==\"Primary Tumor\"]\n",
    "# X_tumor_df = X_tumor_df.drop(columns = 'sample_type.samples')\n",
    "# scaler = StandardScaler()\n",
    "# scaler.fit_transform(X_tumor_df)\n",
    "# X_scaled = pd.DataFrame(scaler.transform(X_tumor_df))\n",
    "# X_scaled.columns = X_tumor_df.columns\n",
    "# X_scaled.index = X_tumor_df.index"
   ]
  },
  {
   "cell_type": "markdown",
   "metadata": {},
   "source": [
    "## Drop according to mean and variance of each feature (This is currently not working, skip this part"
   ]
  },
  {
   "cell_type": "code",
   "execution_count": 18,
   "metadata": {},
   "outputs": [
    {
     "data": {
      "text/plain": [
       "'\\nmean_vec = scaler.mean_\\nvar_vec = scaler.var_\\ncutoff_num = 6 # We want 1-cutoff_prob of the distribution to be above this number\\ncutoff_prob=.05\\nkeep_vec = []\\nzeros_vec = []\\nnan_vec = []\\nfor ii in range(len(mean_vec)):\\n    mean = mean_vec[ii]\\n    variance = var_vec[ii]\\n    distribution = norm(loc=mean,scale=variance)\\n    cum_prob = distribution.cdf(cutoff_num)\\n    if np.isnan(cum_prob):\\n        nan_vec.append(ii)\\n    if cum_prob >= cutoff_prob: # Drop when cutoff_prob\\n        keep_vec.append(ii)\\n    if (mean_vec[ii] == 0) or (var_vec[ii] == 0):\\n        zeros_vec.append(ii)\\n    else:\\n        pass\\n'"
      ]
     },
     "execution_count": 18,
     "metadata": {},
     "output_type": "execute_result"
    }
   ],
   "source": [
    "'''\n",
    "mean_vec = scaler.mean_\n",
    "var_vec = scaler.var_\n",
    "cutoff_num = 6 # We want 1-cutoff_prob of the distribution to be above this number\n",
    "cutoff_prob=.05\n",
    "keep_vec = []\n",
    "zeros_vec = []\n",
    "nan_vec = []\n",
    "for ii in range(len(mean_vec)):\n",
    "    mean = mean_vec[ii]\n",
    "    variance = var_vec[ii]\n",
    "    distribution = norm(loc=mean,scale=variance)\n",
    "    cum_prob = distribution.cdf(cutoff_num)\n",
    "    if np.isnan(cum_prob):\n",
    "        nan_vec.append(ii)\n",
    "    if cum_prob >= cutoff_prob: # Drop when cutoff_prob\n",
    "        keep_vec.append(ii)\n",
    "    if (mean_vec[ii] == 0) or (var_vec[ii] == 0):\n",
    "        zeros_vec.append(ii)\n",
    "    else:\n",
    "        pass\n",
    "'''"
   ]
  },
  {
   "cell_type": "markdown",
   "metadata": {},
   "source": [
    "# Drop according to mean (Drop if mean < 6, keep if mean >=6)"
   ]
  },
  {
   "cell_type": "code",
   "execution_count": 19,
   "metadata": {},
   "outputs": [],
   "source": [
    "X_filtered = X_tumor_df[X_tumor_df.columns[mean_vec>=2]]"
   ]
  },
  {
   "cell_type": "code",
   "execution_count": 20,
   "metadata": {},
   "outputs": [
    {
     "data": {
      "text/html": [
       "<div>\n",
       "<style scoped>\n",
       "    .dataframe tbody tr th:only-of-type {\n",
       "        vertical-align: middle;\n",
       "    }\n",
       "\n",
       "    .dataframe tbody tr th {\n",
       "        vertical-align: top;\n",
       "    }\n",
       "\n",
       "    .dataframe thead th {\n",
       "        text-align: right;\n",
       "    }\n",
       "</style>\n",
       "<table border=\"1\" class=\"dataframe\">\n",
       "  <thead>\n",
       "    <tr style=\"text-align: right;\">\n",
       "      <th></th>\n",
       "      <th>ENSG00000000419.11</th>\n",
       "      <th>ENSG00000000938.11</th>\n",
       "      <th>ENSG00000001036.12</th>\n",
       "      <th>ENSG00000001084.9</th>\n",
       "      <th>ENSG00000001561.6</th>\n",
       "      <th>ENSG00000001629.8</th>\n",
       "      <th>ENSG00000002549.11</th>\n",
       "      <th>ENSG00000003509.14</th>\n",
       "      <th>ENSG00000003989.15</th>\n",
       "      <th>ENSG00000004455.15</th>\n",
       "      <th>...</th>\n",
       "      <th>ENSG00000272325.1</th>\n",
       "      <th>ENSG00000272333.4</th>\n",
       "      <th>ENSG00000275074.1</th>\n",
       "      <th>ENSG00000276023.3</th>\n",
       "      <th>ENSG00000276043.3</th>\n",
       "      <th>ENSG00000276293.3</th>\n",
       "      <th>ENSG00000277791.3</th>\n",
       "      <th>ENSG00000278053.3</th>\n",
       "      <th>ENSG00000278540.3</th>\n",
       "      <th>ENSG00000278619.3</th>\n",
       "    </tr>\n",
       "    <tr>\n",
       "      <th>sample_id</th>\n",
       "      <th></th>\n",
       "      <th></th>\n",
       "      <th></th>\n",
       "      <th></th>\n",
       "      <th></th>\n",
       "      <th></th>\n",
       "      <th></th>\n",
       "      <th></th>\n",
       "      <th></th>\n",
       "      <th></th>\n",
       "      <th></th>\n",
       "      <th></th>\n",
       "      <th></th>\n",
       "      <th></th>\n",
       "      <th></th>\n",
       "      <th></th>\n",
       "      <th></th>\n",
       "      <th></th>\n",
       "      <th></th>\n",
       "      <th></th>\n",
       "      <th></th>\n",
       "    </tr>\n",
       "  </thead>\n",
       "  <tbody>\n",
       "    <tr>\n",
       "      <th>TCGA-A2-A3XS-01A</th>\n",
       "      <td>5.661970</td>\n",
       "      <td>2.054464</td>\n",
       "      <td>4.647208</td>\n",
       "      <td>2.221728</td>\n",
       "      <td>2.978367</td>\n",
       "      <td>3.291049</td>\n",
       "      <td>4.586103</td>\n",
       "      <td>2.701784</td>\n",
       "      <td>0.911466</td>\n",
       "      <td>4.831395</td>\n",
       "      <td>...</td>\n",
       "      <td>2.452775</td>\n",
       "      <td>3.684723</td>\n",
       "      <td>1.837284</td>\n",
       "      <td>3.770344</td>\n",
       "      <td>3.208604</td>\n",
       "      <td>4.017068</td>\n",
       "      <td>6.577528</td>\n",
       "      <td>2.354127</td>\n",
       "      <td>2.829414</td>\n",
       "      <td>2.217264</td>\n",
       "    </tr>\n",
       "    <tr>\n",
       "      <th>TCGA-B6-A409-01A</th>\n",
       "      <td>7.125106</td>\n",
       "      <td>1.184212</td>\n",
       "      <td>5.041745</td>\n",
       "      <td>2.322211</td>\n",
       "      <td>2.123892</td>\n",
       "      <td>2.688222</td>\n",
       "      <td>4.559158</td>\n",
       "      <td>2.300412</td>\n",
       "      <td>0.837693</td>\n",
       "      <td>4.735272</td>\n",
       "      <td>...</td>\n",
       "      <td>2.663017</td>\n",
       "      <td>2.659067</td>\n",
       "      <td>2.300588</td>\n",
       "      <td>3.849787</td>\n",
       "      <td>1.534177</td>\n",
       "      <td>2.841454</td>\n",
       "      <td>7.137501</td>\n",
       "      <td>1.941013</td>\n",
       "      <td>2.015007</td>\n",
       "      <td>3.066920</td>\n",
       "    </tr>\n",
       "    <tr>\n",
       "      <th>TCGA-B6-A0I1-01A</th>\n",
       "      <td>5.243776</td>\n",
       "      <td>0.692619</td>\n",
       "      <td>4.674519</td>\n",
       "      <td>2.393131</td>\n",
       "      <td>1.982541</td>\n",
       "      <td>3.236770</td>\n",
       "      <td>4.147502</td>\n",
       "      <td>2.601671</td>\n",
       "      <td>0.098163</td>\n",
       "      <td>5.930779</td>\n",
       "      <td>...</td>\n",
       "      <td>2.467281</td>\n",
       "      <td>3.412525</td>\n",
       "      <td>1.401475</td>\n",
       "      <td>4.330974</td>\n",
       "      <td>1.268508</td>\n",
       "      <td>4.126603</td>\n",
       "      <td>8.217482</td>\n",
       "      <td>2.652238</td>\n",
       "      <td>3.906099</td>\n",
       "      <td>4.148813</td>\n",
       "    </tr>\n",
       "    <tr>\n",
       "      <th>TCGA-BH-A1EY-01A</th>\n",
       "      <td>4.841724</td>\n",
       "      <td>3.955375</td>\n",
       "      <td>5.286194</td>\n",
       "      <td>2.818560</td>\n",
       "      <td>3.298148</td>\n",
       "      <td>3.953702</td>\n",
       "      <td>4.916584</td>\n",
       "      <td>1.886928</td>\n",
       "      <td>3.712448</td>\n",
       "      <td>4.394373</td>\n",
       "      <td>...</td>\n",
       "      <td>1.782670</td>\n",
       "      <td>2.331399</td>\n",
       "      <td>2.417935</td>\n",
       "      <td>2.971519</td>\n",
       "      <td>1.622531</td>\n",
       "      <td>3.520133</td>\n",
       "      <td>5.758548</td>\n",
       "      <td>1.660829</td>\n",
       "      <td>2.721171</td>\n",
       "      <td>0.849916</td>\n",
       "    </tr>\n",
       "    <tr>\n",
       "      <th>TCGA-EW-A1P1-01A</th>\n",
       "      <td>4.757029</td>\n",
       "      <td>3.012064</td>\n",
       "      <td>4.601565</td>\n",
       "      <td>2.625235</td>\n",
       "      <td>2.394472</td>\n",
       "      <td>3.528331</td>\n",
       "      <td>5.460453</td>\n",
       "      <td>2.110321</td>\n",
       "      <td>3.486097</td>\n",
       "      <td>4.189100</td>\n",
       "      <td>...</td>\n",
       "      <td>1.813016</td>\n",
       "      <td>2.715929</td>\n",
       "      <td>2.035503</td>\n",
       "      <td>3.956387</td>\n",
       "      <td>1.986292</td>\n",
       "      <td>4.025924</td>\n",
       "      <td>5.978185</td>\n",
       "      <td>2.378502</td>\n",
       "      <td>3.461025</td>\n",
       "      <td>1.334375</td>\n",
       "    </tr>\n",
       "  </tbody>\n",
       "</table>\n",
       "<p>5 rows × 2361 columns</p>\n",
       "</div>"
      ],
      "text/plain": [
       "                  ENSG00000000419.11  ENSG00000000938.11  ENSG00000001036.12  \\\n",
       "sample_id                                                                      \n",
       "TCGA-A2-A3XS-01A            5.661970            2.054464            4.647208   \n",
       "TCGA-B6-A409-01A            7.125106            1.184212            5.041745   \n",
       "TCGA-B6-A0I1-01A            5.243776            0.692619            4.674519   \n",
       "TCGA-BH-A1EY-01A            4.841724            3.955375            5.286194   \n",
       "TCGA-EW-A1P1-01A            4.757029            3.012064            4.601565   \n",
       "\n",
       "                  ENSG00000001084.9  ENSG00000001561.6  ENSG00000001629.8  \\\n",
       "sample_id                                                                   \n",
       "TCGA-A2-A3XS-01A           2.221728           2.978367           3.291049   \n",
       "TCGA-B6-A409-01A           2.322211           2.123892           2.688222   \n",
       "TCGA-B6-A0I1-01A           2.393131           1.982541           3.236770   \n",
       "TCGA-BH-A1EY-01A           2.818560           3.298148           3.953702   \n",
       "TCGA-EW-A1P1-01A           2.625235           2.394472           3.528331   \n",
       "\n",
       "                  ENSG00000002549.11  ENSG00000003509.14  ENSG00000003989.15  \\\n",
       "sample_id                                                                      \n",
       "TCGA-A2-A3XS-01A            4.586103            2.701784            0.911466   \n",
       "TCGA-B6-A409-01A            4.559158            2.300412            0.837693   \n",
       "TCGA-B6-A0I1-01A            4.147502            2.601671            0.098163   \n",
       "TCGA-BH-A1EY-01A            4.916584            1.886928            3.712448   \n",
       "TCGA-EW-A1P1-01A            5.460453            2.110321            3.486097   \n",
       "\n",
       "                  ENSG00000004455.15  ...  ENSG00000272325.1  \\\n",
       "sample_id                             ...                      \n",
       "TCGA-A2-A3XS-01A            4.831395  ...           2.452775   \n",
       "TCGA-B6-A409-01A            4.735272  ...           2.663017   \n",
       "TCGA-B6-A0I1-01A            5.930779  ...           2.467281   \n",
       "TCGA-BH-A1EY-01A            4.394373  ...           1.782670   \n",
       "TCGA-EW-A1P1-01A            4.189100  ...           1.813016   \n",
       "\n",
       "                  ENSG00000272333.4  ENSG00000275074.1  ENSG00000276023.3  \\\n",
       "sample_id                                                                   \n",
       "TCGA-A2-A3XS-01A           3.684723           1.837284           3.770344   \n",
       "TCGA-B6-A409-01A           2.659067           2.300588           3.849787   \n",
       "TCGA-B6-A0I1-01A           3.412525           1.401475           4.330974   \n",
       "TCGA-BH-A1EY-01A           2.331399           2.417935           2.971519   \n",
       "TCGA-EW-A1P1-01A           2.715929           2.035503           3.956387   \n",
       "\n",
       "                  ENSG00000276043.3  ENSG00000276293.3  ENSG00000277791.3  \\\n",
       "sample_id                                                                   \n",
       "TCGA-A2-A3XS-01A           3.208604           4.017068           6.577528   \n",
       "TCGA-B6-A409-01A           1.534177           2.841454           7.137501   \n",
       "TCGA-B6-A0I1-01A           1.268508           4.126603           8.217482   \n",
       "TCGA-BH-A1EY-01A           1.622531           3.520133           5.758548   \n",
       "TCGA-EW-A1P1-01A           1.986292           4.025924           5.978185   \n",
       "\n",
       "                  ENSG00000278053.3  ENSG00000278540.3  ENSG00000278619.3  \n",
       "sample_id                                                                  \n",
       "TCGA-A2-A3XS-01A           2.354127           2.829414           2.217264  \n",
       "TCGA-B6-A409-01A           1.941013           2.015007           3.066920  \n",
       "TCGA-B6-A0I1-01A           2.652238           3.906099           4.148813  \n",
       "TCGA-BH-A1EY-01A           1.660829           2.721171           0.849916  \n",
       "TCGA-EW-A1P1-01A           2.378502           3.461025           1.334375  \n",
       "\n",
       "[5 rows x 2361 columns]"
      ]
     },
     "execution_count": 20,
     "metadata": {},
     "output_type": "execute_result"
    }
   ],
   "source": [
    "X_filtered.head()"
   ]
  },
  {
   "cell_type": "code",
   "execution_count": 21,
   "metadata": {},
   "outputs": [],
   "source": [
    "breast_genes_c = [gene for gene in X_filtered.columns]\n",
    "breast_genes_c_trunc = [x[:15] for x in breast_genes_c]"
   ]
  },
  {
   "cell_type": "code",
   "execution_count": 22,
   "metadata": {},
   "outputs": [
    {
     "data": {
      "text/plain": [
       "(2361, 2361)"
      ]
     },
     "execution_count": 22,
     "metadata": {},
     "output_type": "execute_result"
    }
   ],
   "source": [
    "len(breast_genes_c_trunc), len(np.unique(breast_genes_c_trunc))"
   ]
  },
  {
   "cell_type": "code",
   "execution_count": 23,
   "metadata": {},
   "outputs": [],
   "source": [
    "BRCA_lung_trunc_df = X_filtered\n",
    "BRCA_lung_trunc_df.columns = breast_genes_c_trunc"
   ]
  },
  {
   "cell_type": "markdown",
   "metadata": {},
   "source": [
    "# Differential Gene Expression Analysis"
   ]
  },
  {
   "cell_type": "code",
   "execution_count": 24,
   "metadata": {},
   "outputs": [],
   "source": [
    "# Read in healthy origin site data (breast in this case)\n",
    "healthy_breast_df = pd.read_csv('breast_gene_exp_healthy.csv',index_col=0)\n",
    "healthy_breast_df = healthy_breast_df.set_index('sample').T"
   ]
  },
  {
   "cell_type": "code",
   "execution_count": 25,
   "metadata": {},
   "outputs": [],
   "source": [
    "def rescale_log(x):\n",
    "    '''\n",
    "    The GTEX data uses log_2(fpkm+.001), while the TCGA data uses log_2(fpkm+1).\n",
    "    We are going to rescale the GTEX data to log_2(fpkm+.1)\n",
    "    '''\n",
    "    new_x = math.log(pow(2,x)-.001+1,2)\n",
    "    return new_x"
   ]
  },
  {
   "cell_type": "code",
   "execution_count": 26,
   "metadata": {},
   "outputs": [],
   "source": [
    "def rescale_log(x):\n",
    "    '''\n",
    "    The GTEX data uses log_2(fpkm+.001), while the TCGA data uses log_2(fpkm+1).\n",
    "    We are going to rescale the GTEX data to log_2(fpkm+.1)\n",
    "    '''\n",
    "    new_x = math.log(pow(2,x)-.001+1,2)\n",
    "    return new_x\n",
    "healthy_breast_df = healthy_breast_df.applymap(rescale_log)"
   ]
  },
  {
   "cell_type": "code",
   "execution_count": 27,
   "metadata": {},
   "outputs": [],
   "source": [
    "breast_genes_h = [genes for genes in healthy_breast_df.columns]\n",
    "breast_genes_h_trunc = [x[:15] for x in breast_genes_h]"
   ]
  },
  {
   "cell_type": "code",
   "execution_count": 28,
   "metadata": {},
   "outputs": [
    {
     "data": {
      "text/plain": [
       "(60498, 60498)"
      ]
     },
     "execution_count": 28,
     "metadata": {},
     "output_type": "execute_result"
    }
   ],
   "source": [
    "len(breast_genes_h_trunc), len(np.unique(breast_genes_h_trunc))"
   ]
  },
  {
   "cell_type": "code",
   "execution_count": 29,
   "metadata": {},
   "outputs": [
    {
     "data": {
      "text/plain": [
       "2361"
      ]
     },
     "execution_count": 29,
     "metadata": {},
     "output_type": "execute_result"
    }
   ],
   "source": [
    "gene_int = set(breast_genes_c_trunc).intersection(set(breast_genes_h_trunc))\n",
    "len(gene_int)"
   ]
  },
  {
   "cell_type": "code",
   "execution_count": 30,
   "metadata": {},
   "outputs": [],
   "source": [
    "healthy_breast_trunc_df = healthy_breast_df\n",
    "healthy_breast_trunc_df.columns = breast_genes_h_trunc\n",
    "# healthy_breast_trunc_df = healthy_breast_trunc_df[breast_genes_c_trunc]"
   ]
  },
  {
   "cell_type": "code",
   "execution_count": 31,
   "metadata": {},
   "outputs": [],
   "source": [
    "# Loop through all genes for two-sample t-test\n",
    "gene_list = []\n",
    "mean_ge_list = []\n",
    "\n",
    "for gene in breast_genes_c_trunc:\n",
    "    t, p = ttest_ind(healthy_breast_trunc_df[gene], BRCA_lung_trunc_df[gene], equal_var=False)\n",
    "    h_mean = healthy_breast_trunc_df[gene].mean()\n",
    "    c_mean = BRCA_lung_trunc_df[gene].mean()\n",
    "    \n",
    "    \n",
    "    if p < 0.005 and c_mean > h_mean:\n",
    "        gene_list.append(gene)\n",
    "        mean_ge_list.append((c_mean, h_mean,c_mean-h_mean))"
   ]
  },
  {
   "cell_type": "code",
   "execution_count": 32,
   "metadata": {},
   "outputs": [
    {
     "data": {
      "text/plain": [
       "(239, 2361)"
      ]
     },
     "execution_count": 32,
     "metadata": {},
     "output_type": "execute_result"
    }
   ],
   "source": [
    "len(gene_list), len(breast_genes_c_trunc)"
   ]
  },
  {
   "cell_type": "markdown",
   "metadata": {},
   "source": [
    "# CLUSTERING ATTEMPT, K-clique"
   ]
  },
  {
   "cell_type": "code",
   "execution_count": 87,
   "metadata": {},
   "outputs": [],
   "source": [
    "from networkx.algorithms.community.kclique import k_clique_communities\n",
    "from networkx import Graph, find_cliques"
   ]
  },
  {
   "cell_type": "code",
   "execution_count": 123,
   "metadata": {},
   "outputs": [],
   "source": [
    "healthy_breast_signif = healthy_breast_trunc_df[gene_list]\n",
    "gene_index = healthy_breast_trunc_df.columns"
   ]
  },
  {
   "cell_type": "code",
   "execution_count": 124,
   "metadata": {},
   "outputs": [
    {
     "data": {
      "text/html": [
       "<div>\n",
       "<style scoped>\n",
       "    .dataframe tbody tr th:only-of-type {\n",
       "        vertical-align: middle;\n",
       "    }\n",
       "\n",
       "    .dataframe tbody tr th {\n",
       "        vertical-align: top;\n",
       "    }\n",
       "\n",
       "    .dataframe thead th {\n",
       "        text-align: right;\n",
       "    }\n",
       "</style>\n",
       "<table border=\"1\" class=\"dataframe\">\n",
       "  <thead>\n",
       "    <tr style=\"text-align: right;\">\n",
       "      <th></th>\n",
       "      <th>ENSG00000004478</th>\n",
       "      <th>ENSG00000009954</th>\n",
       "      <th>ENSG00000011478</th>\n",
       "      <th>ENSG00000012963</th>\n",
       "      <th>ENSG00000021574</th>\n",
       "      <th>ENSG00000033100</th>\n",
       "      <th>ENSG00000041353</th>\n",
       "      <th>ENSG00000044574</th>\n",
       "      <th>ENSG00000048392</th>\n",
       "      <th>ENSG00000052802</th>\n",
       "      <th>...</th>\n",
       "      <th>ENSG00000198833</th>\n",
       "      <th>ENSG00000198890</th>\n",
       "      <th>ENSG00000198900</th>\n",
       "      <th>ENSG00000198951</th>\n",
       "      <th>ENSG00000203805</th>\n",
       "      <th>ENSG00000206527</th>\n",
       "      <th>ENSG00000221955</th>\n",
       "      <th>ENSG00000247077</th>\n",
       "      <th>ENSG00000263528</th>\n",
       "      <th>ENSG00000276043</th>\n",
       "    </tr>\n",
       "  </thead>\n",
       "  <tbody>\n",
       "    <tr>\n",
       "      <th>GTEX-11P81-1926-SM-5BC53</th>\n",
       "      <td>4.841467</td>\n",
       "      <td>4.046095</td>\n",
       "      <td>2.454159</td>\n",
       "      <td>3.344824</td>\n",
       "      <td>2.353332</td>\n",
       "      <td>3.486758</td>\n",
       "      <td>2.097584</td>\n",
       "      <td>6.223616</td>\n",
       "      <td>2.572873</td>\n",
       "      <td>3.451549</td>\n",
       "      <td>...</td>\n",
       "      <td>4.142411</td>\n",
       "      <td>2.375739</td>\n",
       "      <td>4.395746</td>\n",
       "      <td>3.486758</td>\n",
       "      <td>0.189038</td>\n",
       "      <td>3.849980</td>\n",
       "      <td>2.163497</td>\n",
       "      <td>2.823742</td>\n",
       "      <td>2.307414</td>\n",
       "      <td>0.903017</td>\n",
       "    </tr>\n",
       "    <tr>\n",
       "      <th>GTEX-13FTY-2226-SM-5J1ND</th>\n",
       "      <td>5.955809</td>\n",
       "      <td>4.045250</td>\n",
       "      <td>2.952366</td>\n",
       "      <td>3.563193</td>\n",
       "      <td>2.179529</td>\n",
       "      <td>3.499516</td>\n",
       "      <td>2.847996</td>\n",
       "      <td>7.572790</td>\n",
       "      <td>2.599299</td>\n",
       "      <td>4.379177</td>\n",
       "      <td>...</td>\n",
       "      <td>3.428941</td>\n",
       "      <td>2.114401</td>\n",
       "      <td>4.490580</td>\n",
       "      <td>3.173143</td>\n",
       "      <td>0.263040</td>\n",
       "      <td>3.444917</td>\n",
       "      <td>2.462014</td>\n",
       "      <td>2.693762</td>\n",
       "      <td>2.283917</td>\n",
       "      <td>0.333419</td>\n",
       "    </tr>\n",
       "    <tr>\n",
       "      <th>GTEX-11WQC-1726-SM-5GU4W</th>\n",
       "      <td>4.929294</td>\n",
       "      <td>3.952344</td>\n",
       "      <td>2.792876</td>\n",
       "      <td>3.757044</td>\n",
       "      <td>2.185847</td>\n",
       "      <td>3.735478</td>\n",
       "      <td>1.411456</td>\n",
       "      <td>6.710825</td>\n",
       "      <td>2.625234</td>\n",
       "      <td>3.632279</td>\n",
       "      <td>...</td>\n",
       "      <td>3.837978</td>\n",
       "      <td>2.493115</td>\n",
       "      <td>4.012579</td>\n",
       "      <td>3.675825</td>\n",
       "      <td>0.389570</td>\n",
       "      <td>3.104346</td>\n",
       "      <td>1.599324</td>\n",
       "      <td>3.263030</td>\n",
       "      <td>2.003570</td>\n",
       "      <td>0.526084</td>\n",
       "    </tr>\n",
       "    <tr>\n",
       "      <th>GTEX-13O3O-0826-SM-5K7WE</th>\n",
       "      <td>4.803266</td>\n",
       "      <td>3.621801</td>\n",
       "      <td>2.424952</td>\n",
       "      <td>3.410083</td>\n",
       "      <td>1.786617</td>\n",
       "      <td>3.879693</td>\n",
       "      <td>1.070382</td>\n",
       "      <td>8.982552</td>\n",
       "      <td>2.536024</td>\n",
       "      <td>4.309577</td>\n",
       "      <td>...</td>\n",
       "      <td>3.922243</td>\n",
       "      <td>2.319080</td>\n",
       "      <td>4.251713</td>\n",
       "      <td>3.192189</td>\n",
       "      <td>0.056585</td>\n",
       "      <td>2.924102</td>\n",
       "      <td>1.918383</td>\n",
       "      <td>3.757044</td>\n",
       "      <td>1.389577</td>\n",
       "      <td>0.856001</td>\n",
       "    </tr>\n",
       "    <tr>\n",
       "      <th>GTEX-13QIC-2326-SM-5LU5N</th>\n",
       "      <td>5.002284</td>\n",
       "      <td>3.957021</td>\n",
       "      <td>2.632277</td>\n",
       "      <td>3.396409</td>\n",
       "      <td>2.330528</td>\n",
       "      <td>3.294248</td>\n",
       "      <td>1.859961</td>\n",
       "      <td>6.882170</td>\n",
       "      <td>2.865928</td>\n",
       "      <td>4.144864</td>\n",
       "      <td>...</td>\n",
       "      <td>3.987359</td>\n",
       "      <td>2.608826</td>\n",
       "      <td>4.580147</td>\n",
       "      <td>3.536027</td>\n",
       "      <td>0.111034</td>\n",
       "      <td>3.390979</td>\n",
       "      <td>2.097584</td>\n",
       "      <td>2.967183</td>\n",
       "      <td>2.160313</td>\n",
       "      <td>0.895309</td>\n",
       "    </tr>\n",
       "  </tbody>\n",
       "</table>\n",
       "<p>5 rows × 239 columns</p>\n",
       "</div>"
      ],
      "text/plain": [
       "                          ENSG00000004478  ENSG00000009954  ENSG00000011478  \\\n",
       "GTEX-11P81-1926-SM-5BC53         4.841467         4.046095         2.454159   \n",
       "GTEX-13FTY-2226-SM-5J1ND         5.955809         4.045250         2.952366   \n",
       "GTEX-11WQC-1726-SM-5GU4W         4.929294         3.952344         2.792876   \n",
       "GTEX-13O3O-0826-SM-5K7WE         4.803266         3.621801         2.424952   \n",
       "GTEX-13QIC-2326-SM-5LU5N         5.002284         3.957021         2.632277   \n",
       "\n",
       "                          ENSG00000012963  ENSG00000021574  ENSG00000033100  \\\n",
       "GTEX-11P81-1926-SM-5BC53         3.344824         2.353332         3.486758   \n",
       "GTEX-13FTY-2226-SM-5J1ND         3.563193         2.179529         3.499516   \n",
       "GTEX-11WQC-1726-SM-5GU4W         3.757044         2.185847         3.735478   \n",
       "GTEX-13O3O-0826-SM-5K7WE         3.410083         1.786617         3.879693   \n",
       "GTEX-13QIC-2326-SM-5LU5N         3.396409         2.330528         3.294248   \n",
       "\n",
       "                          ENSG00000041353  ENSG00000044574  ENSG00000048392  \\\n",
       "GTEX-11P81-1926-SM-5BC53         2.097584         6.223616         2.572873   \n",
       "GTEX-13FTY-2226-SM-5J1ND         2.847996         7.572790         2.599299   \n",
       "GTEX-11WQC-1726-SM-5GU4W         1.411456         6.710825         2.625234   \n",
       "GTEX-13O3O-0826-SM-5K7WE         1.070382         8.982552         2.536024   \n",
       "GTEX-13QIC-2326-SM-5LU5N         1.859961         6.882170         2.865928   \n",
       "\n",
       "                          ENSG00000052802  ...  ENSG00000198833  \\\n",
       "GTEX-11P81-1926-SM-5BC53         3.451549  ...         4.142411   \n",
       "GTEX-13FTY-2226-SM-5J1ND         4.379177  ...         3.428941   \n",
       "GTEX-11WQC-1726-SM-5GU4W         3.632279  ...         3.837978   \n",
       "GTEX-13O3O-0826-SM-5K7WE         4.309577  ...         3.922243   \n",
       "GTEX-13QIC-2326-SM-5LU5N         4.144864  ...         3.987359   \n",
       "\n",
       "                          ENSG00000198890  ENSG00000198900  ENSG00000198951  \\\n",
       "GTEX-11P81-1926-SM-5BC53         2.375739         4.395746         3.486758   \n",
       "GTEX-13FTY-2226-SM-5J1ND         2.114401         4.490580         3.173143   \n",
       "GTEX-11WQC-1726-SM-5GU4W         2.493115         4.012579         3.675825   \n",
       "GTEX-13O3O-0826-SM-5K7WE         2.319080         4.251713         3.192189   \n",
       "GTEX-13QIC-2326-SM-5LU5N         2.608826         4.580147         3.536027   \n",
       "\n",
       "                          ENSG00000203805  ENSG00000206527  ENSG00000221955  \\\n",
       "GTEX-11P81-1926-SM-5BC53         0.189038         3.849980         2.163497   \n",
       "GTEX-13FTY-2226-SM-5J1ND         0.263040         3.444917         2.462014   \n",
       "GTEX-11WQC-1726-SM-5GU4W         0.389570         3.104346         1.599324   \n",
       "GTEX-13O3O-0826-SM-5K7WE         0.056585         2.924102         1.918383   \n",
       "GTEX-13QIC-2326-SM-5LU5N         0.111034         3.390979         2.097584   \n",
       "\n",
       "                          ENSG00000247077  ENSG00000263528  ENSG00000276043  \n",
       "GTEX-11P81-1926-SM-5BC53         2.823742         2.307414         0.903017  \n",
       "GTEX-13FTY-2226-SM-5J1ND         2.693762         2.283917         0.333419  \n",
       "GTEX-11WQC-1726-SM-5GU4W         3.263030         2.003570         0.526084  \n",
       "GTEX-13O3O-0826-SM-5K7WE         3.757044         1.389577         0.856001  \n",
       "GTEX-13QIC-2326-SM-5LU5N         2.967183         2.160313         0.895309  \n",
       "\n",
       "[5 rows x 239 columns]"
      ]
     },
     "execution_count": 124,
     "metadata": {},
     "output_type": "execute_result"
    }
   ],
   "source": [
    "healthy_breast_signif.head()"
   ]
  },
  {
   "cell_type": "code",
   "execution_count": 62,
   "metadata": {},
   "outputs": [],
   "source": [
    "healthy_breast_signif.head()\n",
    "gene_array = healthy_breast_signif.to_numpy()\n",
    "corr = np.corrcoef(gene_array.T)\n",
    "corr_filtered = (corr > .5)\n"
   ]
  },
  {
   "cell_type": "code",
   "execution_count": 100,
   "metadata": {},
   "outputs": [
    {
     "data": {
      "text/plain": [
       "<matplotlib.image.AxesImage at 0x21947f33a08>"
      ]
     },
     "execution_count": 100,
     "metadata": {},
     "output_type": "execute_result"
    },
    {
     "data": {
      "image/png": "[encoded data removed]",
      "text/plain": [
       "<Figure size 288x288 with 1 Axes>"
      ]
     },
     "metadata": {
      "needs_background": "light"
     },
     "output_type": "display_data"
    }
   ],
   "source": [
    "plt.matshow(corr_filtered)"
   ]
  },
  {
   "cell_type": "code",
   "execution_count": 106,
   "metadata": {},
   "outputs": [
    {
     "data": {
      "text/plain": [
       "4244.0"
      ]
     },
     "execution_count": 106,
     "metadata": {},
     "output_type": "execute_result"
    }
   ],
   "source": [
    "(sum(sum(corr_filtered))-239)/2 + 239"
   ]
  },
  {
   "cell_type": "code",
   "execution_count": 96,
   "metadata": {},
   "outputs": [],
   "source": [
    "gene_network = Graph(corr_filtered)\n"
   ]
  },
  {
   "cell_type": "code",
   "execution_count": 110,
   "metadata": {},
   "outputs": [
    {
     "name": "stdout",
     "output_type": "stream",
     "text": [
      "4244\n",
      "239\n"
     ]
    }
   ],
   "source": [
    "print(gene_network.number_of_edges())\n",
    "print(gene_network.number_of_nodes())"
   ]
  },
  {
   "cell_type": "code",
   "execution_count": 116,
   "metadata": {},
   "outputs": [],
   "source": [
    "gene_clusters = k_clique_communities(gene_network,4,networkx.find_cliques(gene_network))"
   ]
  },
  {
   "cell_type": "code",
   "execution_count": 117,
   "metadata": {},
   "outputs": [],
   "source": [
    "clusters_list = list(gene_clusters)"
   ]
  },
  {
   "cell_type": "code",
   "execution_count": 127,
   "metadata": {},
   "outputs": [
    {
     "name": "stdout",
     "output_type": "stream",
     "text": [
      "Index(['ENSG00000242268', 'ENSG00000270112', 'ENSG00000167578',\n",
      "       'ENSG00000278814', 'ENSG00000078237', 'ENSG00000269416',\n",
      "       'ENSG00000263642', 'ENSG00000146083', 'ENSG00000158486',\n",
      "       'ENSG00000273639',\n",
      "       ...\n",
      "       'ENSG00000127564', 'ENSG00000255349', 'ENSG00000275248',\n",
      "       'ENSG00000226086', 'ENSG00000211682', 'ENSG00000270997',\n",
      "       'ENSG00000159479', 'ENSG00000112511', 'ENSG00000211950',\n",
      "       'ENSG00000202534'],\n",
      "      dtype='object', length=190)\n",
      "Index(['ENSG00000197421', 'ENSG00000264091', 'ENSG00000158480',\n",
      "       'ENSG00000094963'],\n",
      "      dtype='object')\n",
      "Index(['ENSG00000153015', 'ENSG00000199812', 'ENSG00000112511',\n",
      "       'ENSG00000185105'],\n",
      "      dtype='object')\n",
      "Index(['ENSG00000135903', 'ENSG00000251538', 'ENSG00000235023',\n",
      "       'ENSG00000254555'],\n",
      "      dtype='object')\n"
     ]
    }
   ],
   "source": [
    "for cluster in clusters_list:\n",
    "    genes_in_cluster = gene_index[list(cluster)]\n",
    "    print(genes_in_cluster)"
   ]
  },
  {
   "cell_type": "markdown",
   "metadata": {},
   "source": [
    "# END CLUSTER K CLIQUE"
   ]
  },
  {
   "cell_type": "code",
   "execution_count": null,
   "metadata": {},
   "outputs": [],
   "source": []
  },
  {
   "cell_type": "code",
   "execution_count": 40,
   "metadata": {},
   "outputs": [],
   "source": [
    "# Keep subset of genes that are effectively upregulated\n",
    "BRCA_lung_subset_df = BRCA_lung_trunc_df[gene_list]"
   ]
  },
  {
   "cell_type": "code",
   "execution_count": 41,
   "metadata": {},
   "outputs": [],
   "source": [
    "# Setup dataset for clustering\n",
    "\n",
    "X = np.zeros((len(gene_list),BRCA_lung_subset_df.shape[0]))\n",
    "\n",
    "for i, gene in enumerate(gene_list):\n",
    "    X[i] = BRCA_lung_subset_df[gene]"
   ]
  },
  {
   "cell_type": "code",
   "execution_count": 42,
   "metadata": {},
   "outputs": [],
   "source": [
    "clustering = DBSCAN(eps=0.5, min_samples=5, metric='cosine').fit(X)"
   ]
  },
  {
   "cell_type": "code",
   "execution_count": 43,
   "metadata": {},
   "outputs": [
    {
     "data": {
      "text/plain": [
       "array([0, 0, 0, 0, 0, 0, 0, 0, 0, 0, 0, 0, 0, 0, 0, 0, 0, 0, 0, 0, 0, 0,\n",
       "       0, 0, 0, 0, 0, 0, 0, 0, 0, 0, 0, 0, 0, 0, 0, 0, 0, 0, 0, 0, 0, 0,\n",
       "       0, 0, 0, 0, 0, 0, 0, 0, 0, 0, 0, 0, 0, 0, 0, 0, 0, 0, 0, 0, 0, 0,\n",
       "       0, 0, 0, 0, 0, 0, 0, 0, 0, 0, 0, 0, 0, 0, 0, 0, 0, 0, 0, 0, 0, 0,\n",
       "       0, 0, 0, 0, 0, 0, 0, 0, 0, 0, 0, 0, 0, 0, 0, 0, 0, 0, 0, 0, 0, 0,\n",
       "       0, 0, 0, 0, 0, 0, 0, 0, 0, 0, 0, 0, 0, 0, 0, 0, 0, 0, 0, 0, 0, 0,\n",
       "       0, 0, 0, 0, 0, 0, 0, 0, 0, 0, 0, 0, 0, 0, 0, 0, 0, 0, 0, 0, 0, 0,\n",
       "       0, 0, 0, 0, 0, 0, 0, 0, 0, 0, 0, 0, 0, 0, 0, 0, 0, 0, 0, 0, 0, 0,\n",
       "       0, 0, 0, 0, 0, 0, 0, 0, 0, 0, 0, 0, 0, 0, 0, 0, 0, 0, 0, 0, 0, 0,\n",
       "       0, 0, 0, 0, 0, 0, 0, 0, 0, 0, 0, 0, 0, 0, 0, 0, 0, 0, 0, 0, 0, 0,\n",
       "       0, 0, 0, 0, 0, 0, 0, 0, 0, 0, 0, 0, 0, 0, 0, 0, 0, 0, 0],\n",
       "      dtype=int64)"
      ]
     },
     "execution_count": 43,
     "metadata": {},
     "output_type": "execute_result"
    }
   ],
   "source": [
    "clustering.labels_"
   ]
  },
  {
   "cell_type": "code",
   "execution_count": null,
   "metadata": {},
   "outputs": [],
   "source": []
  },
  {
   "cell_type": "code",
   "execution_count": null,
   "metadata": {},
   "outputs": [],
   "source": []
  },
  {
   "cell_type": "code",
   "execution_count": null,
   "metadata": {},
   "outputs": [],
   "source": []
  },
  {
   "cell_type": "code",
   "execution_count": null,
   "metadata": {},
   "outputs": [],
   "source": []
  },
  {
   "cell_type": "code",
   "execution_count": null,
   "metadata": {},
   "outputs": [],
   "source": []
  },
  {
   "cell_type": "code",
   "execution_count": null,
   "metadata": {},
   "outputs": [],
   "source": []
  },
  {
   "cell_type": "code",
   "execution_count": null,
   "metadata": {},
   "outputs": [],
   "source": []
  },
  {
   "cell_type": "code",
   "execution_count": null,
   "metadata": {},
   "outputs": [],
   "source": []
  },
  {
   "cell_type": "code",
   "execution_count": null,
   "metadata": {},
   "outputs": [],
   "source": []
  },
  {
   "cell_type": "code",
   "execution_count": null,
   "metadata": {},
   "outputs": [],
   "source": []
  },
  {
   "cell_type": "code",
   "execution_count": null,
   "metadata": {},
   "outputs": [],
   "source": []
  },
  {
   "cell_type": "code",
   "execution_count": null,
   "metadata": {},
   "outputs": [],
   "source": []
  },
  {
   "cell_type": "code",
   "execution_count": null,
   "metadata": {},
   "outputs": [],
   "source": []
  },
  {
   "cell_type": "code",
   "execution_count": null,
   "metadata": {},
   "outputs": [],
   "source": []
  }
 ],
 "metadata": {
  "kernelspec": {
   "display_name": "Python 3",
   "language": "python",
   "name": "python3"
  },
  "language_info": {
   "codemirror_mode": {
    "name": "ipython",
    "version": 3
   },
   "file_extension": ".py",
   "mimetype": "text/x-python",
   "name": "python",
   "nbconvert_exporter": "python",
   "pygments_lexer": "ipython3",
   "version": "3.7.7"
  }
 },
 "nbformat": 4,
 "nbformat_minor": 4
}
