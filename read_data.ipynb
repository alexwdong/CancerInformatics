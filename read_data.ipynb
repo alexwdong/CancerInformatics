{
 "cells": [
  {
   "cell_type": "code",
   "execution_count": 403,
   "metadata": {},
   "outputs": [],
   "source": [
    "import numpy as np\n",
    "import pandas as pd\n",
    "import re\n",
    "pd.set_option('display.max_rows', None)"
   ]
  },
  {
   "cell_type": "code",
   "execution_count": 254,
   "metadata": {},
   "outputs": [],
   "source": [
    "# Read in new data\n",
    "filepath_new = 'mmc1-tony.xlsx'\n",
    "data_new = pd.read_excel(filepath_new,index_col=0)"
   ]
  },
  {
   "cell_type": "code",
   "execution_count": 560,
   "metadata": {},
   "outputs": [],
   "source": [
    "# Breast         - 'BCRA'\n",
    "# Head-neck      - 'HNSC'\n",
    "# Melanoma(skin) - 'SKCM'\n",
    "# Stomach        - 'STAD'\n",
    "# Bladder        - 'BLCA'\n",
    "# Sarcoma        - 'SARC'\n",
    "# Pancreatic     - 'PAAD'\n",
    "\n",
    "def create_dataset(cancer_type,new_tumor_event_site, data_new):\n",
    "    data_clinical = data_new[data_new['type']==cancer_type]\n",
    "\n",
    "    filepath_ge = str(cancer_type)+'/TCGA-'+str(cancer_type)+'.htseq_fpkm.tsv'\n",
    "    data_ge = pd.read_csv(filepath_ge,delimiter = '\\t')\n",
    "    data_ge.rename(columns = {'Ensembl_ID':'Sample'},inplace=True)\n",
    "    data_ge = data_ge.set_index('Sample').T\n",
    "    data_ge['sample_id'] = data_ge.index\n",
    "    \n",
    "    # Get sample ids\n",
    "    idx_ge = [idx[:-4] for idx in data_ge.index]\n",
    "    idx_clinical = data_clinical['bcr_patient_barcode']\n",
    "    idx_inter = set(idx_ge).intersection(idx_clinical)\n",
    "    data_ge['bcr_patient_barcode'] = idx_ge\n",
    "    \n",
    "    # Make subset of clinical data for join\n",
    "    data_clinical_subset = data_clinical[['bcr_patient_barcode','new_tumor_event_site']]\n",
    "    \n",
    "    # Combine data using inner join\n",
    "    data_combined = pd.merge(data_ge,data_clinical_subset,on='bcr_patient_barcode',how='inner')\n",
    "    data_combined.index = data_combined['sample_id']\n",
    "    \n",
    "    data_final = data_combined[data_combined['new_tumor_event_site'] == new_tumor_event_site]\n",
    "    \n",
    "    return data_final"
   ]
  },
  {
   "cell_type": "code",
   "execution_count": 574,
   "metadata": {},
   "outputs": [],
   "source": [
    "# Get breast cancer data with new tumor site in bone\n",
    "data_BRCA_bone = create_dataset(cancer_type = 'BRCA', new_tumor_event_site = 'Bone', data_new = data_new)"
   ]
  },
  {
   "cell_type": "code",
   "execution_count": 578,
   "metadata": {},
   "outputs": [],
   "source": [
    "# Get head-neck squamous cell carcinoma data with new tumor site in oral cavity\n",
    "data_HNSC_oral = create_dataset(cancer_type = 'HNSC', new_tumor_event_site = 'Oral Cavity', data_new = data_new)"
   ]
  },
  {
   "cell_type": "code",
   "execution_count": 586,
   "metadata": {},
   "outputs": [],
   "source": [
    "# Get melanoma (skin cancer) data with new tumor site in lung\n",
    "data_SKCM_lung = create_dataset(cancer_type = 'SKCM', new_tumor_event_site = 'Lung', data_new = data_new)"
   ]
  },
  {
   "cell_type": "code",
   "execution_count": 587,
   "metadata": {},
   "outputs": [],
   "source": [
    "# Get head-neck squamous cell carcinoma data with new tumor site in liver\n",
    "data_STAD_liver = create_dataset(cancer_type = 'STAD', new_tumor_event_site = 'Liver', data_new = data_new)"
   ]
  },
  {
   "cell_type": "code",
   "execution_count": null,
   "metadata": {},
   "outputs": [],
   "source": [
    "# Get bladder cancer data with new tumor site in lung\n",
    "data_BLCA_lung = create_dataset(cancer_type = 'BLCA', new_tumor_event_site = 'Lung', data_new = data_new)"
   ]
  },
  {
   "cell_type": "code",
   "execution_count": 570,
   "metadata": {},
   "outputs": [],
   "source": [
    "# Get sarcoma data with new tumor site in lung\n",
    "data_SARC_lung = create_dataset(cancer_type = 'SARC', new_tumor_event_site = 'Lung', data_new = data_new)"
   ]
  },
  {
   "cell_type": "code",
   "execution_count": 572,
   "metadata": {},
   "outputs": [],
   "source": [
    "# Get pancreatic cancer data with new tumor site in lung\n",
    "data_PAAD_liver = create_dataset(cancer_type = 'PAAD', new_tumor_event_site = 'Liver', data_new = data_new)"
   ]
  },
  {
   "cell_type": "code",
   "execution_count": 612,
   "metadata": {},
   "outputs": [],
   "source": [
    "# Get counts of new tumor sites of each type of cancers\n",
    "\n",
    "# for cancer_type in data_new['type'].unique():\n",
    "#     data_test = data_new[data_new['type'] == cancer_type]\n",
    "#     print(cancer_type)\n",
    "#     print(data_test['new_tumor_event_site'].value_counts())\n",
    "#     print('=========================')"
   ]
  },
  {
   "cell_type": "code",
   "execution_count": 143,
   "metadata": {},
   "outputs": [],
   "source": [
    "# # Phenotype data\n",
    "\n",
    "# # Breast Cancer\n",
    "# filepath_breast_ph = 'Breast/TCGA-BRCA.GDC_phenotype.tsv'\n",
    "# data_breast_ph = pd.read_csv(filepath_breast_ph, delimiter = '\\t')\n",
    "\n",
    "# # Bladder Cancer\n",
    "# filepath_bladder_ph = 'Bladder/TCGA-BLCA.GDC_phenotype.tsv'\n",
    "# data_bladder_ph = pd.read_csv(filepath_bladder_ph,delimiter = '\\t')\n",
    "\n",
    "# # Cervical Cancer\n",
    "# filepath_cervical_ph = 'Cervical/TCGA-CESC.GDC_phenotype.tsv'\n",
    "# data_cervical_ph = pd.read_csv(filepath_cervical_ph,delimiter = '\\t')\n",
    "\n",
    "# # Colon Cancer\n",
    "# filepath_colon_ph = 'Colon/TCGA-COAD.GDC_phenotype.tsv'\n",
    "# data_colon_ph = pd.read_csv(filepath_colon_ph,delimiter = '\\t')\n",
    "\n",
    "# # Melanoma Cancer\n",
    "# filepath_melanoma_ph = 'Melanoma/TCGA-SKCM.GDC_phenotype.tsv'\n",
    "# data_melanoma_ph = pd.read_csv(filepath_melanoma_ph,delimiter = '\\t')\n",
    "\n",
    "# # Prostate Cancer\n",
    "# filepath_prostate_ph = 'Prostate/TCGA-PRAD.GDC_phenotype.tsv'\n",
    "# data_prostate_ph = pd.read_csv(filepath_prostate_ph,delimiter = '\\t')\n",
    "\n",
    "# # Rectal Cancer\n",
    "# filepath_rectal_ph = 'Rectal/TCGA-READ.GDC_phenotype.tsv'\n",
    "# data_rectal_ph = pd.read_csv(filepath_rectal_ph,delimiter = '\\t')"
   ]
  },
  {
   "cell_type": "code",
   "execution_count": null,
   "metadata": {},
   "outputs": [],
   "source": [
    "# # Get counts of types of sample, either tumor, normal or metastatic\n",
    "# data_ph['sample_type.samples'].value_counts()\n",
    "\n",
    "# # Get counts of nulls\n",
    "# data_ph['sample_type.samples'].isnull().sum()"
   ]
  }
 ],
 "metadata": {
  "kernelspec": {
   "display_name": "Python 3",
   "language": "python",
   "name": "python3"
  },
  "language_info": {
   "codemirror_mode": {
    "name": "ipython",
    "version": 3
   },
   "file_extension": ".py",
   "mimetype": "text/x-python",
   "name": "python",
   "nbconvert_exporter": "python",
   "pygments_lexer": "ipython3",
   "version": "3.6.9"
  }
 },
 "nbformat": 4,
 "nbformat_minor": 4
}
